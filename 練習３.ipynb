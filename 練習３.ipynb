{
  "nbformat": 4,
  "nbformat_minor": 0,
  "metadata": {
    "colab": {
      "provenance": [],
      "authorship_tag": "ABX9TyOxauBz/nKvtpkzhJfSUJgS",
      "include_colab_link": true
    },
    "kernelspec": {
      "name": "python3",
      "display_name": "Python 3"
    },
    "language_info": {
      "name": "python"
    }
  },
  "cells": [
    {
      "cell_type": "markdown",
      "metadata": {
        "id": "view-in-github",
        "colab_type": "text"
      },
      "source": [
        "<a href=\"https://colab.research.google.com/github/yamaguchinorimitsu/ajax_app/blob/master/%E7%B7%B4%E7%BF%92%EF%BC%93.ipynb\" target=\"_parent\"><img src=\"https://colab.research.google.com/assets/colab-badge.svg\" alt=\"Open In Colab\"/></a>"
      ]
    },
    {
      "cell_type": "code",
      "execution_count": 1,
      "metadata": {
        "id": "KDVgRp2wFwC5"
      },
      "outputs": [],
      "source": [
        "import pandas as pd\n",
        "from sklearn.model_selection import train_test_split\n",
        "from sklearn.ensemble import RandomForestRegressor\n",
        "from sklearn.linear_model import LinearRegression\n",
        "from sklearn.ensemble import RandomForestClassifier\n",
        "from sklearn.linear_model import LogisticRegression\n",
        "from sklearn.metrics import mean_squared_error, accuracy_score\n",
        "import numpy as np\n",
        "\n",
        "# CSVファイルを読み込み\n",
        "df = pd.read_csv('/content/Survived.csv')"
      ]
    },
    {
      "cell_type": "code",
      "source": [
        "df.isnull().sum()"
      ],
      "metadata": {
        "colab": {
          "base_uri": "https://localhost:8080/"
        },
        "id": "yB6bgR6zGYZu",
        "outputId": "205231b2-119f-4eae-9827-cf743a32f5d2"
      },
      "execution_count": 2,
      "outputs": [
        {
          "output_type": "execute_result",
          "data": {
            "text/plain": [
              "PassengerId      0\n",
              "Survived         0\n",
              "Pclass           0\n",
              "Sex              0\n",
              "Age            177\n",
              "SibSp            0\n",
              "Parch            0\n",
              "Ticket           0\n",
              "Fare             0\n",
              "Cabin          687\n",
              "Embarked         2\n",
              "dtype: int64"
            ]
          },
          "metadata": {},
          "execution_count": 2
        }
      ]
    },
    {
      "cell_type": "code",
      "source": [
        "df.shape"
      ],
      "metadata": {
        "colab": {
          "base_uri": "https://localhost:8080/"
        },
        "id": "iuYaPtKMGhfv",
        "outputId": "7a5014f4-3efa-4bd8-bc63-2e6f34a7a15b"
      },
      "execution_count": 4,
      "outputs": [
        {
          "output_type": "execute_result",
          "data": {
            "text/plain": [
              "(891, 11)"
            ]
          },
          "metadata": {},
          "execution_count": 4
        }
      ]
    },
    {
      "cell_type": "code",
      "source": [
        "# 欠損値を平均値で補完\n",
        "df['Age'] = df['Age'].fillna(df['Age'].mean())\n",
        "\n",
        "# 欠損値を最頻値で補完\n",
        "df['Embarked'] = df['Embarked'].fillna(df['Embarked'].mode()[0])\n"
      ],
      "metadata": {
        "id": "zTZxtB_7Gx6x"
      },
      "execution_count": 11,
      "outputs": []
    },
    {
      "cell_type": "code",
      "source": [
        "# 特徴量とターゲットの分割\n",
        "\n",
        "col = ['Pclass','Age','SibSp','Parch','Fare']\n",
        "X = df[col]\n",
        "y = df['Survived']\n",
        "\n",
        "# 訓練データとテストデータの分割\n",
        "X_train, X_test, y_train, y_test = train_test_split(X, y, test_size=0.2, random_state=0)"
      ],
      "metadata": {
        "id": "OfiLpshoIkEt"
      },
      "execution_count": 14,
      "outputs": []
    },
    {
      "cell_type": "code",
      "source": [
        "X_train.shape"
      ],
      "metadata": {
        "colab": {
          "base_uri": "https://localhost:8080/"
        },
        "id": "rRoYdkLIJSlA",
        "outputId": "6437307d-6933-4c2b-c98c-f7613094d63f"
      },
      "execution_count": 15,
      "outputs": [
        {
          "output_type": "execute_result",
          "data": {
            "text/plain": [
              "(712, 5)"
            ]
          },
          "metadata": {},
          "execution_count": 15
        }
      ]
    },
    {
      "cell_type": "code",
      "source": [
        "model = RandomForestClassifier(max_depth=6, random_state=0,class_weight ='balanced')\n",
        "model.fit(X_train, y_train)"
      ],
      "metadata": {
        "colab": {
          "base_uri": "https://localhost:8080/",
          "height": 75
        },
        "id": "Y_qLdMwUJbSx",
        "outputId": "5b3fab5a-bf0f-41c9-fb80-f04398d85990"
      },
      "execution_count": 23,
      "outputs": [
        {
          "output_type": "execute_result",
          "data": {
            "text/plain": [
              "RandomForestClassifier(class_weight='balanced', max_depth=6, random_state=0)"
            ],
            "text/html": [
              "<style>#sk-container-id-2 {color: black;background-color: white;}#sk-container-id-2 pre{padding: 0;}#sk-container-id-2 div.sk-toggleable {background-color: white;}#sk-container-id-2 label.sk-toggleable__label {cursor: pointer;display: block;width: 100%;margin-bottom: 0;padding: 0.3em;box-sizing: border-box;text-align: center;}#sk-container-id-2 label.sk-toggleable__label-arrow:before {content: \"▸\";float: left;margin-right: 0.25em;color: #696969;}#sk-container-id-2 label.sk-toggleable__label-arrow:hover:before {color: black;}#sk-container-id-2 div.sk-estimator:hover label.sk-toggleable__label-arrow:before {color: black;}#sk-container-id-2 div.sk-toggleable__content {max-height: 0;max-width: 0;overflow: hidden;text-align: left;background-color: #f0f8ff;}#sk-container-id-2 div.sk-toggleable__content pre {margin: 0.2em;color: black;border-radius: 0.25em;background-color: #f0f8ff;}#sk-container-id-2 input.sk-toggleable__control:checked~div.sk-toggleable__content {max-height: 200px;max-width: 100%;overflow: auto;}#sk-container-id-2 input.sk-toggleable__control:checked~label.sk-toggleable__label-arrow:before {content: \"▾\";}#sk-container-id-2 div.sk-estimator input.sk-toggleable__control:checked~label.sk-toggleable__label {background-color: #d4ebff;}#sk-container-id-2 div.sk-label input.sk-toggleable__control:checked~label.sk-toggleable__label {background-color: #d4ebff;}#sk-container-id-2 input.sk-hidden--visually {border: 0;clip: rect(1px 1px 1px 1px);clip: rect(1px, 1px, 1px, 1px);height: 1px;margin: -1px;overflow: hidden;padding: 0;position: absolute;width: 1px;}#sk-container-id-2 div.sk-estimator {font-family: monospace;background-color: #f0f8ff;border: 1px dotted black;border-radius: 0.25em;box-sizing: border-box;margin-bottom: 0.5em;}#sk-container-id-2 div.sk-estimator:hover {background-color: #d4ebff;}#sk-container-id-2 div.sk-parallel-item::after {content: \"\";width: 100%;border-bottom: 1px solid gray;flex-grow: 1;}#sk-container-id-2 div.sk-label:hover label.sk-toggleable__label {background-color: #d4ebff;}#sk-container-id-2 div.sk-serial::before {content: \"\";position: absolute;border-left: 1px solid gray;box-sizing: border-box;top: 0;bottom: 0;left: 50%;z-index: 0;}#sk-container-id-2 div.sk-serial {display: flex;flex-direction: column;align-items: center;background-color: white;padding-right: 0.2em;padding-left: 0.2em;position: relative;}#sk-container-id-2 div.sk-item {position: relative;z-index: 1;}#sk-container-id-2 div.sk-parallel {display: flex;align-items: stretch;justify-content: center;background-color: white;position: relative;}#sk-container-id-2 div.sk-item::before, #sk-container-id-2 div.sk-parallel-item::before {content: \"\";position: absolute;border-left: 1px solid gray;box-sizing: border-box;top: 0;bottom: 0;left: 50%;z-index: -1;}#sk-container-id-2 div.sk-parallel-item {display: flex;flex-direction: column;z-index: 1;position: relative;background-color: white;}#sk-container-id-2 div.sk-parallel-item:first-child::after {align-self: flex-end;width: 50%;}#sk-container-id-2 div.sk-parallel-item:last-child::after {align-self: flex-start;width: 50%;}#sk-container-id-2 div.sk-parallel-item:only-child::after {width: 0;}#sk-container-id-2 div.sk-dashed-wrapped {border: 1px dashed gray;margin: 0 0.4em 0.5em 0.4em;box-sizing: border-box;padding-bottom: 0.4em;background-color: white;}#sk-container-id-2 div.sk-label label {font-family: monospace;font-weight: bold;display: inline-block;line-height: 1.2em;}#sk-container-id-2 div.sk-label-container {text-align: center;}#sk-container-id-2 div.sk-container {/* jupyter's `normalize.less` sets `[hidden] { display: none; }` but bootstrap.min.css set `[hidden] { display: none !important; }` so we also need the `!important` here to be able to override the default hidden behavior on the sphinx rendered scikit-learn.org. See: https://github.com/scikit-learn/scikit-learn/issues/21755 */display: inline-block !important;position: relative;}#sk-container-id-2 div.sk-text-repr-fallback {display: none;}</style><div id=\"sk-container-id-2\" class=\"sk-top-container\"><div class=\"sk-text-repr-fallback\"><pre>RandomForestClassifier(class_weight=&#x27;balanced&#x27;, max_depth=6, random_state=0)</pre><b>In a Jupyter environment, please rerun this cell to show the HTML representation or trust the notebook. <br />On GitHub, the HTML representation is unable to render, please try loading this page with nbviewer.org.</b></div><div class=\"sk-container\" hidden><div class=\"sk-item\"><div class=\"sk-estimator sk-toggleable\"><input class=\"sk-toggleable__control sk-hidden--visually\" id=\"sk-estimator-id-2\" type=\"checkbox\" checked><label for=\"sk-estimator-id-2\" class=\"sk-toggleable__label sk-toggleable__label-arrow\">RandomForestClassifier</label><div class=\"sk-toggleable__content\"><pre>RandomForestClassifier(class_weight=&#x27;balanced&#x27;, max_depth=6, random_state=0)</pre></div></div></div></div></div>"
            ]
          },
          "metadata": {},
          "execution_count": 23
        }
      ]
    },
    {
      "cell_type": "code",
      "source": [
        "model.score(X_test,y_test)"
      ],
      "metadata": {
        "colab": {
          "base_uri": "https://localhost:8080/"
        },
        "id": "oB_daNtWKpRJ",
        "outputId": "ac708b4d-f125-4aad-9d5c-d9a424750f5d"
      },
      "execution_count": 24,
      "outputs": [
        {
          "output_type": "execute_result",
          "data": {
            "text/plain": [
              "0.7877094972067039"
            ]
          },
          "metadata": {},
          "execution_count": 24
        }
      ]
    },
    {
      "cell_type": "code",
      "source": [
        "def learn(X,y,depth=3):\n",
        "    X_train,X_test,y_train,y_test = train_test_split(X,y,test_size = 0.2,random_state = 0)\n",
        "    model = RandomForestClassifier(max_depth =depth,random_state = 0,class_weight=\"balanced\")\n",
        "    model.fit(X_train,y_train)\n",
        "\n",
        "    score=model.score(X=X_train,y=y_train)\n",
        "    score2=model.score(X=X_test,y=y_test)\n",
        "    return round(score,3),round(score2,3),model"
      ],
      "metadata": {
        "id": "JkywHtghOCRu"
      },
      "execution_count": 21,
      "outputs": []
    },
    {
      "cell_type": "code",
      "source": [
        "for j in range(1,15): # jは木の深さ jには1～14が入る\n",
        "    # xは特徴量、yは正解データ\n",
        "    train_score,test_score,model = learn(X,y,depth = j)\n",
        "    sentence=\"訓練データの正解率{}\"\n",
        "    sentence2=\"訓練データの正解率{}\"\n",
        "    total_sentence='深さ{}:'+sentence+sentence2\n",
        "    print(total_sentence.format(j,\n",
        "    train_score,test_score))"
      ],
      "metadata": {
        "colab": {
          "base_uri": "https://localhost:8080/"
        },
        "id": "DsVPLc44ODZD",
        "outputId": "96c1d337-1d9c-42f6-d278-7ee630d31705"
      },
      "execution_count": 31,
      "outputs": [
        {
          "output_type": "stream",
          "name": "stdout",
          "text": [
            "深さ1:訓練データの正解率0.671訓練データの正解率0.721\n",
            "深さ2:訓練データの正解率0.701訓練データの正解率0.737\n",
            "深さ3:訓練データの正解率0.716訓練データの正解率0.743\n",
            "深さ4:訓練データの正解率0.726訓練データの正解率0.754\n",
            "深さ5:訓練データの正解率0.747訓練データの正解率0.771\n",
            "深さ6:訓練データの正解率0.777訓練データの正解率0.788\n",
            "深さ7:訓練データの正解率0.795訓練データの正解率0.782\n",
            "深さ8:訓練データの正解率0.834訓練データの正解率0.777\n",
            "深さ9:訓練データの正解率0.882訓練データの正解率0.743\n",
            "深さ10:訓練データの正解率0.903訓練データの正解率0.737\n",
            "深さ11:訓練データの正解率0.923訓練データの正解率0.721\n",
            "深さ12:訓練データの正解率0.934訓練データの正解率0.715\n",
            "深さ13:訓練データの正解率0.945訓練データの正解率0.709\n",
            "深さ14:訓練データの正解率0.949訓練データの正解率0.709\n"
          ]
        }
      ]
    },
    {
      "cell_type": "code",
      "source": [
        "pd.pivot_table(df,index = 'Survived',columns = 'Pclass',\n",
        "values = 'Age')"
      ],
      "metadata": {
        "colab": {
          "base_uri": "https://localhost:8080/",
          "height": 143
        },
        "id": "nRSaewFYPDGt",
        "outputId": "584cfa52-9b28-4db1-a872-3613981a7977"
      },
      "execution_count": 26,
      "outputs": [
        {
          "output_type": "execute_result",
          "data": {
            "text/plain": [
              "Pclass            1          2          3\n",
              "Survived                                 \n",
              "0         40.896074  33.266947  27.417500\n",
              "1         34.784615  26.076166  23.232689"
            ],
            "text/html": [
              "\n",
              "  <div id=\"df-9429c412-836f-425e-89af-ea18d2a2c723\">\n",
              "    <div class=\"colab-df-container\">\n",
              "      <div>\n",
              "<style scoped>\n",
              "    .dataframe tbody tr th:only-of-type {\n",
              "        vertical-align: middle;\n",
              "    }\n",
              "\n",
              "    .dataframe tbody tr th {\n",
              "        vertical-align: top;\n",
              "    }\n",
              "\n",
              "    .dataframe thead th {\n",
              "        text-align: right;\n",
              "    }\n",
              "</style>\n",
              "<table border=\"1\" class=\"dataframe\">\n",
              "  <thead>\n",
              "    <tr style=\"text-align: right;\">\n",
              "      <th>Pclass</th>\n",
              "      <th>1</th>\n",
              "      <th>2</th>\n",
              "      <th>3</th>\n",
              "    </tr>\n",
              "    <tr>\n",
              "      <th>Survived</th>\n",
              "      <th></th>\n",
              "      <th></th>\n",
              "      <th></th>\n",
              "    </tr>\n",
              "  </thead>\n",
              "  <tbody>\n",
              "    <tr>\n",
              "      <th>0</th>\n",
              "      <td>40.896074</td>\n",
              "      <td>33.266947</td>\n",
              "      <td>27.417500</td>\n",
              "    </tr>\n",
              "    <tr>\n",
              "      <th>1</th>\n",
              "      <td>34.784615</td>\n",
              "      <td>26.076166</td>\n",
              "      <td>23.232689</td>\n",
              "    </tr>\n",
              "  </tbody>\n",
              "</table>\n",
              "</div>\n",
              "      <button class=\"colab-df-convert\" onclick=\"convertToInteractive('df-9429c412-836f-425e-89af-ea18d2a2c723')\"\n",
              "              title=\"Convert this dataframe to an interactive table.\"\n",
              "              style=\"display:none;\">\n",
              "        \n",
              "  <svg xmlns=\"http://www.w3.org/2000/svg\" height=\"24px\"viewBox=\"0 0 24 24\"\n",
              "       width=\"24px\">\n",
              "    <path d=\"M0 0h24v24H0V0z\" fill=\"none\"/>\n",
              "    <path d=\"M18.56 5.44l.94 2.06.94-2.06 2.06-.94-2.06-.94-.94-2.06-.94 2.06-2.06.94zm-11 1L8.5 8.5l.94-2.06 2.06-.94-2.06-.94L8.5 2.5l-.94 2.06-2.06.94zm10 10l.94 2.06.94-2.06 2.06-.94-2.06-.94-.94-2.06-.94 2.06-2.06.94z\"/><path d=\"M17.41 7.96l-1.37-1.37c-.4-.4-.92-.59-1.43-.59-.52 0-1.04.2-1.43.59L10.3 9.45l-7.72 7.72c-.78.78-.78 2.05 0 2.83L4 21.41c.39.39.9.59 1.41.59.51 0 1.02-.2 1.41-.59l7.78-7.78 2.81-2.81c.8-.78.8-2.07 0-2.86zM5.41 20L4 18.59l7.72-7.72 1.47 1.35L5.41 20z\"/>\n",
              "  </svg>\n",
              "      </button>\n",
              "      \n",
              "  <style>\n",
              "    .colab-df-container {\n",
              "      display:flex;\n",
              "      flex-wrap:wrap;\n",
              "      gap: 12px;\n",
              "    }\n",
              "\n",
              "    .colab-df-convert {\n",
              "      background-color: #E8F0FE;\n",
              "      border: none;\n",
              "      border-radius: 50%;\n",
              "      cursor: pointer;\n",
              "      display: none;\n",
              "      fill: #1967D2;\n",
              "      height: 32px;\n",
              "      padding: 0 0 0 0;\n",
              "      width: 32px;\n",
              "    }\n",
              "\n",
              "    .colab-df-convert:hover {\n",
              "      background-color: #E2EBFA;\n",
              "      box-shadow: 0px 1px 2px rgba(60, 64, 67, 0.3), 0px 1px 3px 1px rgba(60, 64, 67, 0.15);\n",
              "      fill: #174EA6;\n",
              "    }\n",
              "\n",
              "    [theme=dark] .colab-df-convert {\n",
              "      background-color: #3B4455;\n",
              "      fill: #D2E3FC;\n",
              "    }\n",
              "\n",
              "    [theme=dark] .colab-df-convert:hover {\n",
              "      background-color: #434B5C;\n",
              "      box-shadow: 0px 1px 3px 1px rgba(0, 0, 0, 0.15);\n",
              "      filter: drop-shadow(0px 1px 2px rgba(0, 0, 0, 0.3));\n",
              "      fill: #FFFFFF;\n",
              "    }\n",
              "  </style>\n",
              "\n",
              "      <script>\n",
              "        const buttonEl =\n",
              "          document.querySelector('#df-9429c412-836f-425e-89af-ea18d2a2c723 button.colab-df-convert');\n",
              "        buttonEl.style.display =\n",
              "          google.colab.kernel.accessAllowed ? 'block' : 'none';\n",
              "\n",
              "        async function convertToInteractive(key) {\n",
              "          const element = document.querySelector('#df-9429c412-836f-425e-89af-ea18d2a2c723');\n",
              "          const dataTable =\n",
              "            await google.colab.kernel.invokeFunction('convertToInteractive',\n",
              "                                                     [key], {});\n",
              "          if (!dataTable) return;\n",
              "\n",
              "          const docLinkHtml = 'Like what you see? Visit the ' +\n",
              "            '<a target=\"_blank\" href=https://colab.research.google.com/notebooks/data_table.ipynb>data table notebook</a>'\n",
              "            + ' to learn more about interactive tables.';\n",
              "          element.innerHTML = '';\n",
              "          dataTable['output_type'] = 'display_data';\n",
              "          await google.colab.output.renderOutput(dataTable, element);\n",
              "          const docLink = document.createElement('div');\n",
              "          docLink.innerHTML = docLinkHtml;\n",
              "          element.appendChild(docLink);\n",
              "        }\n",
              "      </script>\n",
              "    </div>\n",
              "  </div>\n",
              "  "
            ]
          },
          "metadata": {},
          "execution_count": 26
        }
      ]
    },
    {
      "cell_type": "code",
      "source": [
        "# CSVファイルを読み込み\n",
        "df2 = pd.read_csv('/content/Survived.csv')\n",
        "\n",
        "# Age列の欠損値行を抜き出すのに必要（欠損だとTrue)\n",
        "is_null = df2['Age'].isnull()\n",
        "\n",
        "# Pclass 1　に関する埋め込み\n",
        "df2.loc[(df2['Pclass'] == 1) & (df2['Survived'] == 0)\n",
        "    &(is_null),'Age'] = 40\n",
        "df2.loc[(df2['Pclass'] == 1) & (df2['Survived'] == 1)\n",
        "    &(is_null),'Age'] = 34\n",
        "\n",
        "# Pclass 2　に関する埋め込み\n",
        "df2.loc[(df2['Pclass'] == 2) & (df2['Survived'] == 0)\n",
        "    &(is_null),'Age'] = 33\n",
        "df2.loc[(df['Pclass'] == 2) & (df2['Survived'] == 1)\n",
        "    &(is_null),'Age'] = 26\n",
        "\n",
        "# Pclass 3　に関する埋め込み\n",
        "df2.loc[(df2['Pclass'] == 3) & (df2['Survived'] == 0)\n",
        "    &(is_null),'Age'] = 27\n",
        "df2.loc[(df2['Pclass'] == 3) & (df2['Survived'] == 1)\n",
        "    &(is_null),'Age'] = 23"
      ],
      "metadata": {
        "id": "XV4feVXISFSm"
      },
      "execution_count": 32,
      "outputs": []
    },
    {
      "cell_type": "code",
      "source": [
        "# 特徴量とターゲットの分割\n",
        "\n",
        "col = ['Pclass','Age','SibSp','Parch','Fare']\n",
        "X = df2[col]\n",
        "y = df2['Survived']\n",
        "\n",
        "for j in range(1,15): # jは木の深さ jには1～14が入る\n",
        "    # xは特徴量、yは正解データ\n",
        "    train_score,test_score,model = learn(X,y,depth = j)\n",
        "    sentence=\"訓練データの正解率{}\"\n",
        "    sentence2=\"訓練データの正解率{}\"\n",
        "    total_sentence='深さ{}:'+sentence+sentence2\n",
        "    print(total_sentence.format(j,\n",
        "    train_score,test_score))"
      ],
      "metadata": {
        "colab": {
          "base_uri": "https://localhost:8080/"
        },
        "id": "yLhSwIUaTtyi",
        "outputId": "e2137bd4-e532-4225-8c5b-bcd516f39a92"
      },
      "execution_count": 33,
      "outputs": [
        {
          "output_type": "stream",
          "name": "stdout",
          "text": [
            "深さ1:訓練データの正解率0.657訓練データの正解率0.693\n",
            "深さ2:訓練データの正解率0.706訓練データの正解率0.754\n",
            "深さ3:訓練データの正解率0.744訓練データの正解率0.737\n",
            "深さ4:訓練データの正解率0.757訓練データの正解率0.76\n",
            "深さ5:訓練データの正解率0.794訓練データの正解率0.777\n",
            "深さ6:訓練データの正解率0.824訓練データの正解率0.804\n",
            "深さ7:訓練データの正解率0.846訓練データの正解率0.81\n",
            "深さ8:訓練データの正解率0.879訓練データの正解率0.793\n",
            "深さ9:訓練データの正解率0.907訓練データの正解率0.777\n",
            "深さ10:訓練データの正解率0.938訓練データの正解率0.76\n",
            "深さ11:訓練データの正解率0.959訓練データの正解率0.771\n",
            "深さ12:訓練データの正解率0.972訓練データの正解率0.765\n",
            "深さ13:訓練データの正解率0.975訓練データの正解率0.76\n",
            "深さ14:訓練データの正解率0.98訓練データの正解率0.749\n"
          ]
        }
      ]
    },
    {
      "cell_type": "code",
      "source": [],
      "metadata": {
        "id": "WbsMwhNKVYbP"
      },
      "execution_count": null,
      "outputs": []
    }
  ]
}