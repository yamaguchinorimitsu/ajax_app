{
  "nbformat": 4,
  "nbformat_minor": 0,
  "metadata": {
    "colab": {
      "provenance": [],
      "authorship_tag": "ABX9TyMwreGzQMjJmQDd1NGtcwBn",
      "include_colab_link": true
    },
    "kernelspec": {
      "name": "python3",
      "display_name": "Python 3"
    },
    "language_info": {
      "name": "python"
    }
  },
  "cells": [
    {
      "cell_type": "markdown",
      "metadata": {
        "id": "view-in-github",
        "colab_type": "text"
      },
      "source": [
        "<a href=\"https://colab.research.google.com/github/yamaguchinorimitsu/ajax_app/blob/master/%E5%8F%82%E8%80%83%E3%82%B3%E3%83%BC%E3%83%89.ipynb\" target=\"_parent\"><img src=\"https://colab.research.google.com/assets/colab-badge.svg\" alt=\"Open In Colab\"/></a>"
      ]
    },
    {
      "cell_type": "code",
      "execution_count": null,
      "metadata": {
        "id": "YrNMpsgJFAxg"
      },
      "outputs": [],
      "source": [
        "import pandas as pd\n",
        "from sklearn.model_selection import train_test_split\n",
        "from sklearn.ensemble import RandomForestRegressor\n",
        "from sklearn.linear_model import LinearRegression\n",
        "from sklearn.ensemble import RandomForestClassifier\n",
        "from sklearn.linear_model import LogisticRegression\n",
        "from sklearn.metrics import mean_squared_error, accuracy_score\n",
        "import numpy as np\n",
        "\n",
        "# CSVファイルを読み込み\n",
        "df = pd.read_csv('data.csv')\n",
        "\n",
        "# 欠損値の確認\n",
        "missing_values = df.isnull().sum()\n",
        "print(\"欠損値の数:\\n\", missing_values)\n",
        "\n",
        "# 欠損値を平均値で補完\n",
        "df = df.fillna(df.mean())\n",
        "\n",
        "# 特徴量とターゲットの分割\n",
        "X = df.drop('target', axis=1)\n",
        "y = df['target']\n",
        "\n",
        "# 訓練データとテストデータの分割\n",
        "X_train, X_test, y_train, y_test = train_test_split(X, y, test_size=0.2, random_state=42)\n",
        "\n",
        "# ランダムフォレスト回帰モデルの作成と評価\n",
        "regressor_rf = RandomForestRegressor(max_depth=5, random_state=42)\n",
        "regressor_rf.fit(X_train, y_train)\n",
        "y_pred_rf = regressor_rf.predict(X_test)\n",
        "mse_rf = mean_squared_error(y_test, y_pred_rf)\n",
        "print(\"ランダムフォレスト回帰モデルの評価（平均二乗誤差）:\", mse_rf)\n",
        "\n",
        "# 線形回帰モデルの作成と評価\n",
        "regressor_lr = LinearRegression()\n",
        "regressor_lr.fit(X_train, y_train)\n",
        "y_pred_lr = regressor_lr.predict(X_test)\n",
        "mse_lr = mean_squared_error(y_test, y_pred_lr)\n",
        "print(\"線形回帰モデルの評価（平均二乗誤差）:\", mse_lr)\n",
        "\n",
        "# ランダムフォレスト分類モデルの作成と評価\n",
        "classifier_rf = RandomForestClassifier(max_depth=5, random_state=42)\n",
        "classifier_rf.fit(X_train, y_train)\n",
        "y_pred_rf_class = classifier_rf.predict(X_test)\n",
        "accuracy_rf = accuracy_score(y_test, y_pred_rf_class)\n",
        "print(\"ランダムフォレスト分類モデルの評価（正解率）:\", accuracy_rf)\n",
        "\n",
        "# ロジスティック回帰モデルの作成と評価\n",
        "classifier_lr = LogisticRegression(random_state=42)\n",
        "classifier_lr.fit(X_train, y_train)\n",
        "y_pred_lr_class = classifier_lr.predict(X_test)\n",
        "accuracy_lr = accuracy_score(y_test, y_pred_lr_class)\n",
        "print(\"ロジスティック回帰モデルの評価（正解率）:\", accuracy_lr)"
      ]
    },
    {
      "cell_type": "code",
      "source": [
        "# 欠損値が1つでもある行を削除した結果を、df2に代入\n",
        "df2 = df.dropna(how = 'any', axis = 0)\n",
        "\n",
        "df2.tail(3) # 欠損値の存在確認"
      ],
      "metadata": {
        "id": "d5hNILTuKIns"
      },
      "execution_count": null,
      "outputs": []
    },
    {
      "cell_type": "code",
      "source": [
        "# 棒グラフの作成\n",
        "plt.bar(x, y)\n",
        "\n",
        "# グラフのタイトルと軸ラベルの設定\n",
        "plt.title('Bar Chart')\n",
        "plt.xlabel('Category')\n",
        "plt.ylabel('Value')\n",
        "\n",
        "# グラフの表示\n",
        "plt.show()\n",
        "\n",
        "\n",
        "#例２\n",
        "sex = df2.groupby('Sex').mean()\n",
        "sex['Survived'].plot(kind='bar')"
      ],
      "metadata": {
        "id": "BEWUczWoQ_nL"
      },
      "execution_count": null,
      "outputs": []
    },
    {
      "cell_type": "code",
      "source": [
        "#散布図\n",
        "import matplotlib.pyplot as plt\n",
        "\n",
        "df2.plot(kind='scatter', x='x0', y='target')\n",
        "plt.xlabel('x0')\n",
        "plt.ylabel('target')\n",
        "plt.title('Scatter Plot')\n",
        "plt.show()"
      ],
      "metadata": {
        "id": "h5qEzU81RPaU"
      },
      "execution_count": null,
      "outputs": []
    },
    {
      "cell_type": "code",
      "source": [
        "#外れ値の除去\n",
        "# 外れ値データを作成\n",
        "no = train_val2[(train_val2['RM'] < 6) & (train_val2['PRICE'] > 40)].index\n",
        "\n",
        "no2 = train_val2[(train_val2['PTRATIO'] > 20) & (train_val2['PRICE'] > 40)].index\n",
        "\n",
        "# 外れ値を除外したデータを作成\n",
        "no = df2[(df2['SNS2'] > 1000) & (df2['sales'] <= 8000)].index\n",
        "\n",
        "#外れ値を削除\n",
        "df3 = df2.drop(no,axis=0)\n",
        "\n",
        "df3.shape"
      ],
      "metadata": {
        "id": "c0fRleb2RU1q"
      },
      "execution_count": null,
      "outputs": []
    },
    {
      "cell_type": "code",
      "source": [
        "import pandas as pd\n",
        "\n",
        "#ダミー変数その１\n",
        "# カテゴリ変数を含むデータフレームの作成\n",
        "df = pd.DataFrame({'color': ['Red', 'Blue', 'Green', 'Red', 'Blue']})\n",
        "\n",
        "# ダミー変数への変換\n",
        "dummy_data = pd.get_dummies(df['color'], prefix='color', drop_first=True)\n",
        "\n",
        "# 元のデータフレームとダミー変数を横方向に連結\n",
        "df_with_dummies = pd.concat([df, dummy_data], axis=1)\n",
        "\n",
        "# 連結結果の表示\n",
        "print(df_with_dummies)\n",
        "\n",
        "\n",
        "#ダミー変数その２\n",
        "# ダミー変数への変換\n",
        "crime = pd.get_dummies(df['CRIME'], prefix='crime', drop_first=True)\n",
        "\n",
        "# 元のデータフレームとダミー変数を横方向に連結\n",
        "df2 = pd.concat([df, crime], axis=1)\n",
        "\n",
        "df2 = df2.drop(['CRIME'], axis = 1)\n",
        "\n",
        "\n",
        "# 連結結果の表示\n",
        "print(df2)"
      ],
      "metadata": {
        "id": "qdaAVvjXUCKg"
      },
      "execution_count": null,
      "outputs": []
    }
  ]
}