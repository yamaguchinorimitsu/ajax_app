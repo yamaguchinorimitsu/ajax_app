{
  "nbformat": 4,
  "nbformat_minor": 0,
  "metadata": {
    "colab": {
      "provenance": [],
      "authorship_tag": "ABX9TyOLplOK+9EgbZkR80KSAsXc",
      "include_colab_link": true
    },
    "kernelspec": {
      "name": "python3",
      "display_name": "Python 3"
    },
    "language_info": {
      "name": "python"
    }
  },
  "cells": [
    {
      "cell_type": "markdown",
      "metadata": {
        "id": "view-in-github",
        "colab_type": "text"
      },
      "source": [
        "<a href=\"https://colab.research.google.com/github/yamaguchinorimitsu/ajax_app/blob/master/%E5%8F%82%E8%80%83%E3%82%B3%E3%83%BC%E3%83%89.ipynb\" target=\"_parent\"><img src=\"https://colab.research.google.com/assets/colab-badge.svg\" alt=\"Open In Colab\"/></a>"
      ]
    },
    {
      "cell_type": "code",
      "execution_count": 3,
      "metadata": {
        "id": "YrNMpsgJFAxg"
      },
      "outputs": [],
      "source": [
        "import pandas as pd\n",
        "from sklearn.model_selection import train_test_split\n",
        "from sklearn.ensemble import RandomForestRegressor\n",
        "from sklearn.linear_model import LinearRegression\n",
        "from sklearn.ensemble import RandomForestClassifier\n",
        "from sklearn.linear_model import LogisticRegression\n",
        "from sklearn.metrics import mean_squared_error, accuracy_score\n",
        "import numpy as np\n",
        "\n",
        "# CSVファイルを読み込み\n",
        "df = pd.read_csv('data.csv')\n",
        "\n",
        "# 欠損値の確認\n",
        "missing_values = df.isnull().sum()\n",
        "print(\"欠損値の数:\\n\", missing_values)\n",
        "\n",
        "# 欠損値を平均値で補完\n",
        "df = df.fillna(df.mean())\n",
        "\n",
        "# 特徴量とターゲットの分割\n",
        "X = df.drop('target', axis=1)\n",
        "y = df['target']\n",
        "\n",
        "# 訓練データとテストデータの分割\n",
        "X_train, X_test, y_train, y_test = train_test_split(X, y, test_size=0.2, random_state=42)\n",
        "\n",
        "# ランダムフォレスト回帰モデルの作成と評価\n",
        "regressor_rf = RandomForestRegressor(max_depth=5, random_state=42)\n",
        "regressor_rf.fit(X_train, y_train)\n",
        "y_pred_rf = regressor_rf.predict(X_test)\n",
        "mse_rf = mean_squared_error(y_test, y_pred_rf)\n",
        "print(\"ランダムフォレスト回帰モデルの評価（平均二乗誤差）:\", mse_rf)\n",
        "\n",
        "# 線形回帰モデルの作成と評価\n",
        "regressor_lr = LinearRegression()\n",
        "regressor_lr.fit(X_train, y_train)\n",
        "y_pred_lr = regressor_lr.predict(X_test)\n",
        "mse_lr = mean_squared_error(y_test, y_pred_lr)\n",
        "print(\"線形回帰モデルの評価（平均二乗誤差）:\", mse_lr)\n",
        "\n",
        "# ランダムフォレスト分類モデルの作成と評価\n",
        "classifier_rf = RandomForestClassifier(max_depth=5, random_state=42)\n",
        "classifier_rf.fit(X_train, y_train)\n",
        "y_pred_rf_class = classifier_rf.predict(X_test)\n",
        "accuracy_rf = accuracy_score(y_test, y_pred_rf_class)\n",
        "print(\"ランダムフォレスト分類モデルの評価（正解率）:\", accuracy_rf)\n",
        "\n",
        "# ロジスティック回帰モデルの作成と評価\n",
        "classifier_lr = LogisticRegression(random_state=42)\n",
        "classifier_lr.fit(X_train, y_train)\n",
        "y_pred_lr_class = classifier_lr.predict(X_test)\n",
        "accuracy_lr = accuracy_score(y_test, y_pred_lr_class)\n",
        "print(\"ロジスティック回帰モデルの評価（正解率）:\", accuracy_lr)"
      ]
    }
  ]
}