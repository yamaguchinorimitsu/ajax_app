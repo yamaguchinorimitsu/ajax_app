{
  "nbformat": 4,
  "nbformat_minor": 0,
  "metadata": {
    "colab": {
      "provenance": [],
      "authorship_tag": "ABX9TyOdERMDMeaP5H3CbSFNcdEz",
      "include_colab_link": true
    },
    "kernelspec": {
      "name": "python3",
      "display_name": "Python 3"
    },
    "language_info": {
      "name": "python"
    }
  },
  "cells": [
    {
      "cell_type": "markdown",
      "metadata": {
        "id": "view-in-github",
        "colab_type": "text"
      },
      "source": [
        "<a href=\"https://colab.research.google.com/github/yamaguchinorimitsu/ajax_app/blob/master/%E5%8F%82%E8%80%83%E3%82%B3%E3%83%BC%E3%83%89.ipynb\" target=\"_parent\"><img src=\"https://colab.research.google.com/assets/colab-badge.svg\" alt=\"Open In Colab\"/></a>"
      ]
    },
    {
      "cell_type": "code",
      "execution_count": null,
      "metadata": {
        "id": "YrNMpsgJFAxg"
      },
      "outputs": [],
      "source": [
        "import pandas as pd\n",
        "from sklearn.ensemble import RandomForestRegressor, RandomForestClassifier\n",
        "from sklearn.linear_model import LinearRegression, LogisticRegression\n",
        "from sklearn.impute import SimpleImputer\n",
        "from sklearn.metrics import mean_squared_error, accuracy_score\n",
        "from sklearn.model_selection import train_test_split\n",
        "\n",
        "# CSVファイルの読み込み\n",
        "data = pd.read_csv('data.csv')\n",
        "\n",
        "# 欠損値の調査\n",
        "missing_values = data.isnull().sum()\n",
        "print(\"欠損値の数:\\n\", missing_values)\n",
        "\n",
        "# 欠損値の補完（平均値で補完）\n",
        "imputer = SimpleImputer(strategy='mean')\n",
        "data_imputed = imputer.fit_transform(data)\n",
        "\n",
        "# データを説明変数と目的変数に分割\n",
        "X = data_imputed.drop('target', axis=1)\n",
        "y = data_imputed['target']\n",
        "\n",
        "# データの分割\n",
        "X_train, X_test, y_train, y_test = train_test_split(X, y, test_size=0.2, random_state=42)\n",
        "\n",
        "# 回帰モデル（ランダムフォレスト回帰）の作成と学習\n",
        "regressor_rf = RandomForestRegressor(max_depth=10, random_state=42)\n",
        "regressor_rf.fit(X_train, y_train)\n",
        "\n",
        "# 回帰モデル（線形回帰）の作成と学習\n",
        "regressor_lr = LinearRegression()\n",
        "regressor_lr.fit(X_train, y_train)\n",
        "\n",
        "# 分類モデル（ランダムフォレスト分類）の作成と学習\n",
        "classifier_rf = RandomForestClassifier(max_depth=10, random_state=42)\n",
        "classifier_rf.fit(X_train, y_train)\n",
        "\n",
        "# 分類モデル（ロジスティック回帰）の作成と学習\n",
        "classifier_lr = LogisticRegression(random_state=42)\n",
        "classifier_lr.fit(X_train, y_train)\n",
        "\n",
        "# テストデータの予測\n",
        "y_pred_rf = regressor_rf.predict(X_test)\n",
        "y_pred_lr = regressor_lr.predict(X_test)\n",
        "y_pred_rf_class = classifier_rf.predict(X_test)\n",
        "y_pred_lr_class = classifier_lr.predict(X_test)\n",
        "\n",
        "# 回帰モデルの評価（平均二乗誤差）\n",
        "mse_rf = mean_squared_error(y_test, y_pred_rf)\n",
        "mse_lr = mean_squared_error(y_test, y_pred_lr)\n",
        "\n",
        "# 分類モデルの評価（正解率）\n",
        "accuracy_rf = accuracy_score(y_test, y_pred_rf_class)\n",
        "accuracy_lr = accuracy_score(y_test, y_pred_lr_class)\n",
        "\n",
        "print(\"ランダムフォレスト回帰モデルの評価（平均二乗誤差）:\", mse_rf)\n",
        "print(\"線形回帰モデルの評価（平均二乗誤差）:\", mse_lr)\n",
        "print(\"ランダムフォレスト分類モデルの評価（正解率）:\", accuracy_rf)\n",
        "print(\"ロジスティック回帰モデルの評価（正解率）:\", accuracy_lr)"
      ]
    }
  ]
}