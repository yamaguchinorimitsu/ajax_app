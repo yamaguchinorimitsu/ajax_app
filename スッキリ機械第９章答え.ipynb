{
  "nbformat": 4,
  "nbformat_minor": 0,
  "metadata": {
    "colab": {
      "provenance": [],
      "authorship_tag": "ABX9TyPhpTfJChzAT7qXEYCkHwNg",
      "include_colab_link": true
    },
    "kernelspec": {
      "name": "python3",
      "display_name": "Python 3"
    },
    "language_info": {
      "name": "python"
    }
  },
  "cells": [
    {
      "cell_type": "markdown",
      "metadata": {
        "id": "view-in-github",
        "colab_type": "text"
      },
      "source": [
        "<a href=\"https://colab.research.google.com/github/yamaguchinorimitsu/ajax_app/blob/master/%E3%82%B9%E3%83%83%E3%82%AD%E3%83%AA%E6%A9%9F%E6%A2%B0%E7%AC%AC%EF%BC%99%E7%AB%A0%E7%AD%94%E3%81%88.ipynb\" target=\"_parent\"><img src=\"https://colab.research.google.com/assets/colab-badge.svg\" alt=\"Open In Colab\"/></a>"
      ]
    },
    {
      "cell_type": "code",
      "execution_count": 1,
      "metadata": {
        "colab": {
          "base_uri": "https://localhost:8080/",
          "height": 288
        },
        "id": "sxAUfbJBaqjR",
        "outputId": "2c2369da-adf7-4675-becd-8941c0fe35c5"
      },
      "outputs": [
        {
          "output_type": "stream",
          "name": "stdout",
          "text": [
            "(27128, 16)\n"
          ]
        },
        {
          "output_type": "execute_result",
          "data": {
            "text/plain": [
              "   id  age           job  marital  education default  amount housing loan  \\\n",
              "0   1   39   blue-collar  married  secondary      no  1756.0     yes   no   \n",
              "1   2   51  entrepreneur  married    primary      no  1443.0      no   no   \n",
              "2   3   36    management   single   tertiary      no   436.0      no   no   \n",
              "3   4   63       retired  married  secondary      no   474.0      no   no   \n",
              "4   5   31    management   single   tertiary      no   354.0      no   no   \n",
              "\n",
              "    contact  day month    duration  campaign  previous  y  \n",
              "0  cellular    3   apr  370.055237         1         0  1  \n",
              "1  cellular   18   feb  233.998933        10         0  1  \n",
              "2  cellular   13   apr         NaN         1         2  0  \n",
              "3  cellular   25   jan  252.525808         1         0  0  \n",
              "4  cellular   30   apr         NaN         1         2  0  "
            ],
            "text/html": [
              "\n",
              "  <div id=\"df-780285ff-08f0-4df3-81ae-bdc9cd6c6b2a\">\n",
              "    <div class=\"colab-df-container\">\n",
              "      <div>\n",
              "<style scoped>\n",
              "    .dataframe tbody tr th:only-of-type {\n",
              "        vertical-align: middle;\n",
              "    }\n",
              "\n",
              "    .dataframe tbody tr th {\n",
              "        vertical-align: top;\n",
              "    }\n",
              "\n",
              "    .dataframe thead th {\n",
              "        text-align: right;\n",
              "    }\n",
              "</style>\n",
              "<table border=\"1\" class=\"dataframe\">\n",
              "  <thead>\n",
              "    <tr style=\"text-align: right;\">\n",
              "      <th></th>\n",
              "      <th>id</th>\n",
              "      <th>age</th>\n",
              "      <th>job</th>\n",
              "      <th>marital</th>\n",
              "      <th>education</th>\n",
              "      <th>default</th>\n",
              "      <th>amount</th>\n",
              "      <th>housing</th>\n",
              "      <th>loan</th>\n",
              "      <th>contact</th>\n",
              "      <th>day</th>\n",
              "      <th>month</th>\n",
              "      <th>duration</th>\n",
              "      <th>campaign</th>\n",
              "      <th>previous</th>\n",
              "      <th>y</th>\n",
              "    </tr>\n",
              "  </thead>\n",
              "  <tbody>\n",
              "    <tr>\n",
              "      <th>0</th>\n",
              "      <td>1</td>\n",
              "      <td>39</td>\n",
              "      <td>blue-collar</td>\n",
              "      <td>married</td>\n",
              "      <td>secondary</td>\n",
              "      <td>no</td>\n",
              "      <td>1756.0</td>\n",
              "      <td>yes</td>\n",
              "      <td>no</td>\n",
              "      <td>cellular</td>\n",
              "      <td>3</td>\n",
              "      <td>apr</td>\n",
              "      <td>370.055237</td>\n",
              "      <td>1</td>\n",
              "      <td>0</td>\n",
              "      <td>1</td>\n",
              "    </tr>\n",
              "    <tr>\n",
              "      <th>1</th>\n",
              "      <td>2</td>\n",
              "      <td>51</td>\n",
              "      <td>entrepreneur</td>\n",
              "      <td>married</td>\n",
              "      <td>primary</td>\n",
              "      <td>no</td>\n",
              "      <td>1443.0</td>\n",
              "      <td>no</td>\n",
              "      <td>no</td>\n",
              "      <td>cellular</td>\n",
              "      <td>18</td>\n",
              "      <td>feb</td>\n",
              "      <td>233.998933</td>\n",
              "      <td>10</td>\n",
              "      <td>0</td>\n",
              "      <td>1</td>\n",
              "    </tr>\n",
              "    <tr>\n",
              "      <th>2</th>\n",
              "      <td>3</td>\n",
              "      <td>36</td>\n",
              "      <td>management</td>\n",
              "      <td>single</td>\n",
              "      <td>tertiary</td>\n",
              "      <td>no</td>\n",
              "      <td>436.0</td>\n",
              "      <td>no</td>\n",
              "      <td>no</td>\n",
              "      <td>cellular</td>\n",
              "      <td>13</td>\n",
              "      <td>apr</td>\n",
              "      <td>NaN</td>\n",
              "      <td>1</td>\n",
              "      <td>2</td>\n",
              "      <td>0</td>\n",
              "    </tr>\n",
              "    <tr>\n",
              "      <th>3</th>\n",
              "      <td>4</td>\n",
              "      <td>63</td>\n",
              "      <td>retired</td>\n",
              "      <td>married</td>\n",
              "      <td>secondary</td>\n",
              "      <td>no</td>\n",
              "      <td>474.0</td>\n",
              "      <td>no</td>\n",
              "      <td>no</td>\n",
              "      <td>cellular</td>\n",
              "      <td>25</td>\n",
              "      <td>jan</td>\n",
              "      <td>252.525808</td>\n",
              "      <td>1</td>\n",
              "      <td>0</td>\n",
              "      <td>0</td>\n",
              "    </tr>\n",
              "    <tr>\n",
              "      <th>4</th>\n",
              "      <td>5</td>\n",
              "      <td>31</td>\n",
              "      <td>management</td>\n",
              "      <td>single</td>\n",
              "      <td>tertiary</td>\n",
              "      <td>no</td>\n",
              "      <td>354.0</td>\n",
              "      <td>no</td>\n",
              "      <td>no</td>\n",
              "      <td>cellular</td>\n",
              "      <td>30</td>\n",
              "      <td>apr</td>\n",
              "      <td>NaN</td>\n",
              "      <td>1</td>\n",
              "      <td>2</td>\n",
              "      <td>0</td>\n",
              "    </tr>\n",
              "  </tbody>\n",
              "</table>\n",
              "</div>\n",
              "      <button class=\"colab-df-convert\" onclick=\"convertToInteractive('df-780285ff-08f0-4df3-81ae-bdc9cd6c6b2a')\"\n",
              "              title=\"Convert this dataframe to an interactive table.\"\n",
              "              style=\"display:none;\">\n",
              "        \n",
              "  <svg xmlns=\"http://www.w3.org/2000/svg\" height=\"24px\"viewBox=\"0 0 24 24\"\n",
              "       width=\"24px\">\n",
              "    <path d=\"M0 0h24v24H0V0z\" fill=\"none\"/>\n",
              "    <path d=\"M18.56 5.44l.94 2.06.94-2.06 2.06-.94-2.06-.94-.94-2.06-.94 2.06-2.06.94zm-11 1L8.5 8.5l.94-2.06 2.06-.94-2.06-.94L8.5 2.5l-.94 2.06-2.06.94zm10 10l.94 2.06.94-2.06 2.06-.94-2.06-.94-.94-2.06-.94 2.06-2.06.94z\"/><path d=\"M17.41 7.96l-1.37-1.37c-.4-.4-.92-.59-1.43-.59-.52 0-1.04.2-1.43.59L10.3 9.45l-7.72 7.72c-.78.78-.78 2.05 0 2.83L4 21.41c.39.39.9.59 1.41.59.51 0 1.02-.2 1.41-.59l7.78-7.78 2.81-2.81c.8-.78.8-2.07 0-2.86zM5.41 20L4 18.59l7.72-7.72 1.47 1.35L5.41 20z\"/>\n",
              "  </svg>\n",
              "      </button>\n",
              "      \n",
              "  <style>\n",
              "    .colab-df-container {\n",
              "      display:flex;\n",
              "      flex-wrap:wrap;\n",
              "      gap: 12px;\n",
              "    }\n",
              "\n",
              "    .colab-df-convert {\n",
              "      background-color: #E8F0FE;\n",
              "      border: none;\n",
              "      border-radius: 50%;\n",
              "      cursor: pointer;\n",
              "      display: none;\n",
              "      fill: #1967D2;\n",
              "      height: 32px;\n",
              "      padding: 0 0 0 0;\n",
              "      width: 32px;\n",
              "    }\n",
              "\n",
              "    .colab-df-convert:hover {\n",
              "      background-color: #E2EBFA;\n",
              "      box-shadow: 0px 1px 2px rgba(60, 64, 67, 0.3), 0px 1px 3px 1px rgba(60, 64, 67, 0.15);\n",
              "      fill: #174EA6;\n",
              "    }\n",
              "\n",
              "    [theme=dark] .colab-df-convert {\n",
              "      background-color: #3B4455;\n",
              "      fill: #D2E3FC;\n",
              "    }\n",
              "\n",
              "    [theme=dark] .colab-df-convert:hover {\n",
              "      background-color: #434B5C;\n",
              "      box-shadow: 0px 1px 3px 1px rgba(0, 0, 0, 0.15);\n",
              "      filter: drop-shadow(0px 1px 2px rgba(0, 0, 0, 0.3));\n",
              "      fill: #FFFFFF;\n",
              "    }\n",
              "  </style>\n",
              "\n",
              "      <script>\n",
              "        const buttonEl =\n",
              "          document.querySelector('#df-780285ff-08f0-4df3-81ae-bdc9cd6c6b2a button.colab-df-convert');\n",
              "        buttonEl.style.display =\n",
              "          google.colab.kernel.accessAllowed ? 'block' : 'none';\n",
              "\n",
              "        async function convertToInteractive(key) {\n",
              "          const element = document.querySelector('#df-780285ff-08f0-4df3-81ae-bdc9cd6c6b2a');\n",
              "          const dataTable =\n",
              "            await google.colab.kernel.invokeFunction('convertToInteractive',\n",
              "                                                     [key], {});\n",
              "          if (!dataTable) return;\n",
              "\n",
              "          const docLinkHtml = 'Like what you see? Visit the ' +\n",
              "            '<a target=\"_blank\" href=https://colab.research.google.com/notebooks/data_table.ipynb>data table notebook</a>'\n",
              "            + ' to learn more about interactive tables.';\n",
              "          element.innerHTML = '';\n",
              "          dataTable['output_type'] = 'display_data';\n",
              "          await google.colab.output.renderOutput(dataTable, element);\n",
              "          const docLink = document.createElement('div');\n",
              "          docLink.innerHTML = docLinkHtml;\n",
              "          element.appendChild(docLink);\n",
              "        }\n",
              "      </script>\n",
              "    </div>\n",
              "  </div>\n",
              "  "
            ]
          },
          "metadata": {},
          "execution_count": 1
        }
      ],
      "source": [
        "import pandas as pd\n",
        "from sklearn import tree\n",
        "from sklearn.model_selection import train_test_split\n",
        "%matplotlib inline \n",
        "\n",
        "df = pd.read_csv('/content/Bank.csv')\n",
        "print(df.shape)\n",
        "df.head()"
      ]
    },
    {
      "cell_type": "code",
      "source": [
        "# まず、ダミー変数化をしたいが、文字列の列が複数あるので抜き出す。\n",
        "str_col_name=['job','default','marital','education','housing','loan','contact','month']\n",
        "str_df = df[str_col_name]\n",
        "#複数列を一気にダミー変数化\n",
        "str_df2=pd.get_dummies(str_df,drop_first=True)\n",
        "\n",
        "num_df = df.drop(str_col_name,axis=1)#数値列を抜き出す\n",
        "df2 = pd.concat([num_df,str_df2,str_df],axis=1)#結合(今後の集計の利便性も考慮してstr_dfも結合しておく)"
      ],
      "metadata": {
        "id": "1ef4OVSYpdFj"
      },
      "execution_count": 2,
      "outputs": []
    },
    {
      "cell_type": "code",
      "source": [
        "df2.columns"
      ],
      "metadata": {
        "colab": {
          "base_uri": "https://localhost:8080/"
        },
        "id": "k1jiHjKXpvOL",
        "outputId": "3400eadd-7673-43de-a846-1ea9f05e5160"
      },
      "execution_count": 3,
      "outputs": [
        {
          "output_type": "execute_result",
          "data": {
            "text/plain": [
              "Index(['id', 'age', 'amount', 'day', 'duration', 'campaign', 'previous', 'y',\n",
              "       'job_blue-collar', 'job_entrepreneur', 'job_housemaid',\n",
              "       'job_management', 'job_retired', 'job_self-employed', 'job_services',\n",
              "       'job_student', 'job_technician', 'job_unemployed', 'job_unknown',\n",
              "       'default_yes', 'marital_married', 'marital_single',\n",
              "       'education_secondary', 'education_tertiary', 'education_unknown',\n",
              "       'housing_yes', 'loan_yes', 'contact_sending _document',\n",
              "       'contact_telephone', 'month_aug', 'month_dec', 'month_feb', 'month_jan',\n",
              "       'month_jul', 'month_jun', 'month_mar', 'month_may', 'month_nov',\n",
              "       'month_oct', 'month_sep', 'job', 'default', 'marital', 'education',\n",
              "       'housing', 'loan', 'contact', 'month'],\n",
              "      dtype='object')"
            ]
          },
          "metadata": {},
          "execution_count": 3
        }
      ]
    },
    {
      "cell_type": "code",
      "source": [
        "#訓練&検証データとテストデータに分割\n",
        "train_val,test = train_test_split(df2,test_size=0.1,random_state=9)\n",
        "train_val.head()"
      ],
      "metadata": {
        "colab": {
          "base_uri": "https://localhost:8080/",
          "height": 334
        },
        "id": "QFfdyOLLpzG2",
        "outputId": "81ddbdb2-96db-434e-e63b-e62f52e65fc1"
      },
      "execution_count": 4,
      "outputs": [
        {
          "output_type": "execute_result",
          "data": {
            "text/plain": [
              "          id  age  amount  day    duration  campaign  previous  y  \\\n",
              "13378  13379   46     0.0   10  378.293875         1         0  1   \n",
              "3800    3801   41  -333.0   30  300.845752         3         2  0   \n",
              "10398  10399   30  5389.0    6  159.053623         3         0  1   \n",
              "23401  23402   39   255.0    5  334.802583         1         0  0   \n",
              "26223  26224   47    33.0    5         NaN         1         0  1   \n",
              "\n",
              "       job_blue-collar  job_entrepreneur  ...  month_oct  month_sep  \\\n",
              "13378                0                 0  ...          0          0   \n",
              "3800                 1                 0  ...          0          0   \n",
              "10398                0                 0  ...          0          0   \n",
              "23401                0                 0  ...          0          0   \n",
              "26223                0                 0  ...          0          0   \n",
              "\n",
              "               job  default   marital  education  housing  loan  \\\n",
              "13378   unemployed       no   married   tertiary      yes    no   \n",
              "3800   blue-collar       no  divorced  secondary      yes    no   \n",
              "10398   management       no    single   tertiary       no    no   \n",
              "23401   management       no    single   tertiary      yes    no   \n",
              "26223     services       no    single  secondary      yes    no   \n",
              "\n",
              "                 contact  month  \n",
              "13378           cellular    jul  \n",
              "3800            cellular    jan  \n",
              "10398           cellular    aug  \n",
              "23401  sending _document    may  \n",
              "26223           cellular    may  \n",
              "\n",
              "[5 rows x 48 columns]"
            ],
            "text/html": [
              "\n",
              "  <div id=\"df-8473ff9f-9704-40a3-8491-8864069763b8\">\n",
              "    <div class=\"colab-df-container\">\n",
              "      <div>\n",
              "<style scoped>\n",
              "    .dataframe tbody tr th:only-of-type {\n",
              "        vertical-align: middle;\n",
              "    }\n",
              "\n",
              "    .dataframe tbody tr th {\n",
              "        vertical-align: top;\n",
              "    }\n",
              "\n",
              "    .dataframe thead th {\n",
              "        text-align: right;\n",
              "    }\n",
              "</style>\n",
              "<table border=\"1\" class=\"dataframe\">\n",
              "  <thead>\n",
              "    <tr style=\"text-align: right;\">\n",
              "      <th></th>\n",
              "      <th>id</th>\n",
              "      <th>age</th>\n",
              "      <th>amount</th>\n",
              "      <th>day</th>\n",
              "      <th>duration</th>\n",
              "      <th>campaign</th>\n",
              "      <th>previous</th>\n",
              "      <th>y</th>\n",
              "      <th>job_blue-collar</th>\n",
              "      <th>job_entrepreneur</th>\n",
              "      <th>...</th>\n",
              "      <th>month_oct</th>\n",
              "      <th>month_sep</th>\n",
              "      <th>job</th>\n",
              "      <th>default</th>\n",
              "      <th>marital</th>\n",
              "      <th>education</th>\n",
              "      <th>housing</th>\n",
              "      <th>loan</th>\n",
              "      <th>contact</th>\n",
              "      <th>month</th>\n",
              "    </tr>\n",
              "  </thead>\n",
              "  <tbody>\n",
              "    <tr>\n",
              "      <th>13378</th>\n",
              "      <td>13379</td>\n",
              "      <td>46</td>\n",
              "      <td>0.0</td>\n",
              "      <td>10</td>\n",
              "      <td>378.293875</td>\n",
              "      <td>1</td>\n",
              "      <td>0</td>\n",
              "      <td>1</td>\n",
              "      <td>0</td>\n",
              "      <td>0</td>\n",
              "      <td>...</td>\n",
              "      <td>0</td>\n",
              "      <td>0</td>\n",
              "      <td>unemployed</td>\n",
              "      <td>no</td>\n",
              "      <td>married</td>\n",
              "      <td>tertiary</td>\n",
              "      <td>yes</td>\n",
              "      <td>no</td>\n",
              "      <td>cellular</td>\n",
              "      <td>jul</td>\n",
              "    </tr>\n",
              "    <tr>\n",
              "      <th>3800</th>\n",
              "      <td>3801</td>\n",
              "      <td>41</td>\n",
              "      <td>-333.0</td>\n",
              "      <td>30</td>\n",
              "      <td>300.845752</td>\n",
              "      <td>3</td>\n",
              "      <td>2</td>\n",
              "      <td>0</td>\n",
              "      <td>1</td>\n",
              "      <td>0</td>\n",
              "      <td>...</td>\n",
              "      <td>0</td>\n",
              "      <td>0</td>\n",
              "      <td>blue-collar</td>\n",
              "      <td>no</td>\n",
              "      <td>divorced</td>\n",
              "      <td>secondary</td>\n",
              "      <td>yes</td>\n",
              "      <td>no</td>\n",
              "      <td>cellular</td>\n",
              "      <td>jan</td>\n",
              "    </tr>\n",
              "    <tr>\n",
              "      <th>10398</th>\n",
              "      <td>10399</td>\n",
              "      <td>30</td>\n",
              "      <td>5389.0</td>\n",
              "      <td>6</td>\n",
              "      <td>159.053623</td>\n",
              "      <td>3</td>\n",
              "      <td>0</td>\n",
              "      <td>1</td>\n",
              "      <td>0</td>\n",
              "      <td>0</td>\n",
              "      <td>...</td>\n",
              "      <td>0</td>\n",
              "      <td>0</td>\n",
              "      <td>management</td>\n",
              "      <td>no</td>\n",
              "      <td>single</td>\n",
              "      <td>tertiary</td>\n",
              "      <td>no</td>\n",
              "      <td>no</td>\n",
              "      <td>cellular</td>\n",
              "      <td>aug</td>\n",
              "    </tr>\n",
              "    <tr>\n",
              "      <th>23401</th>\n",
              "      <td>23402</td>\n",
              "      <td>39</td>\n",
              "      <td>255.0</td>\n",
              "      <td>5</td>\n",
              "      <td>334.802583</td>\n",
              "      <td>1</td>\n",
              "      <td>0</td>\n",
              "      <td>0</td>\n",
              "      <td>0</td>\n",
              "      <td>0</td>\n",
              "      <td>...</td>\n",
              "      <td>0</td>\n",
              "      <td>0</td>\n",
              "      <td>management</td>\n",
              "      <td>no</td>\n",
              "      <td>single</td>\n",
              "      <td>tertiary</td>\n",
              "      <td>yes</td>\n",
              "      <td>no</td>\n",
              "      <td>sending _document</td>\n",
              "      <td>may</td>\n",
              "    </tr>\n",
              "    <tr>\n",
              "      <th>26223</th>\n",
              "      <td>26224</td>\n",
              "      <td>47</td>\n",
              "      <td>33.0</td>\n",
              "      <td>5</td>\n",
              "      <td>NaN</td>\n",
              "      <td>1</td>\n",
              "      <td>0</td>\n",
              "      <td>1</td>\n",
              "      <td>0</td>\n",
              "      <td>0</td>\n",
              "      <td>...</td>\n",
              "      <td>0</td>\n",
              "      <td>0</td>\n",
              "      <td>services</td>\n",
              "      <td>no</td>\n",
              "      <td>single</td>\n",
              "      <td>secondary</td>\n",
              "      <td>yes</td>\n",
              "      <td>no</td>\n",
              "      <td>cellular</td>\n",
              "      <td>may</td>\n",
              "    </tr>\n",
              "  </tbody>\n",
              "</table>\n",
              "<p>5 rows × 48 columns</p>\n",
              "</div>\n",
              "      <button class=\"colab-df-convert\" onclick=\"convertToInteractive('df-8473ff9f-9704-40a3-8491-8864069763b8')\"\n",
              "              title=\"Convert this dataframe to an interactive table.\"\n",
              "              style=\"display:none;\">\n",
              "        \n",
              "  <svg xmlns=\"http://www.w3.org/2000/svg\" height=\"24px\"viewBox=\"0 0 24 24\"\n",
              "       width=\"24px\">\n",
              "    <path d=\"M0 0h24v24H0V0z\" fill=\"none\"/>\n",
              "    <path d=\"M18.56 5.44l.94 2.06.94-2.06 2.06-.94-2.06-.94-.94-2.06-.94 2.06-2.06.94zm-11 1L8.5 8.5l.94-2.06 2.06-.94-2.06-.94L8.5 2.5l-.94 2.06-2.06.94zm10 10l.94 2.06.94-2.06 2.06-.94-2.06-.94-.94-2.06-.94 2.06-2.06.94z\"/><path d=\"M17.41 7.96l-1.37-1.37c-.4-.4-.92-.59-1.43-.59-.52 0-1.04.2-1.43.59L10.3 9.45l-7.72 7.72c-.78.78-.78 2.05 0 2.83L4 21.41c.39.39.9.59 1.41.59.51 0 1.02-.2 1.41-.59l7.78-7.78 2.81-2.81c.8-.78.8-2.07 0-2.86zM5.41 20L4 18.59l7.72-7.72 1.47 1.35L5.41 20z\"/>\n",
              "  </svg>\n",
              "      </button>\n",
              "      \n",
              "  <style>\n",
              "    .colab-df-container {\n",
              "      display:flex;\n",
              "      flex-wrap:wrap;\n",
              "      gap: 12px;\n",
              "    }\n",
              "\n",
              "    .colab-df-convert {\n",
              "      background-color: #E8F0FE;\n",
              "      border: none;\n",
              "      border-radius: 50%;\n",
              "      cursor: pointer;\n",
              "      display: none;\n",
              "      fill: #1967D2;\n",
              "      height: 32px;\n",
              "      padding: 0 0 0 0;\n",
              "      width: 32px;\n",
              "    }\n",
              "\n",
              "    .colab-df-convert:hover {\n",
              "      background-color: #E2EBFA;\n",
              "      box-shadow: 0px 1px 2px rgba(60, 64, 67, 0.3), 0px 1px 3px 1px rgba(60, 64, 67, 0.15);\n",
              "      fill: #174EA6;\n",
              "    }\n",
              "\n",
              "    [theme=dark] .colab-df-convert {\n",
              "      background-color: #3B4455;\n",
              "      fill: #D2E3FC;\n",
              "    }\n",
              "\n",
              "    [theme=dark] .colab-df-convert:hover {\n",
              "      background-color: #434B5C;\n",
              "      box-shadow: 0px 1px 3px 1px rgba(0, 0, 0, 0.15);\n",
              "      filter: drop-shadow(0px 1px 2px rgba(0, 0, 0, 0.3));\n",
              "      fill: #FFFFFF;\n",
              "    }\n",
              "  </style>\n",
              "\n",
              "      <script>\n",
              "        const buttonEl =\n",
              "          document.querySelector('#df-8473ff9f-9704-40a3-8491-8864069763b8 button.colab-df-convert');\n",
              "        buttonEl.style.display =\n",
              "          google.colab.kernel.accessAllowed ? 'block' : 'none';\n",
              "\n",
              "        async function convertToInteractive(key) {\n",
              "          const element = document.querySelector('#df-8473ff9f-9704-40a3-8491-8864069763b8');\n",
              "          const dataTable =\n",
              "            await google.colab.kernel.invokeFunction('convertToInteractive',\n",
              "                                                     [key], {});\n",
              "          if (!dataTable) return;\n",
              "\n",
              "          const docLinkHtml = 'Like what you see? Visit the ' +\n",
              "            '<a target=\"_blank\" href=https://colab.research.google.com/notebooks/data_table.ipynb>data table notebook</a>'\n",
              "            + ' to learn more about interactive tables.';\n",
              "          element.innerHTML = '';\n",
              "          dataTable['output_type'] = 'display_data';\n",
              "          await google.colab.output.renderOutput(dataTable, element);\n",
              "          const docLink = document.createElement('div');\n",
              "          docLink.innerHTML = docLinkHtml;\n",
              "          element.appendChild(docLink);\n",
              "        }\n",
              "      </script>\n",
              "    </div>\n",
              "  </div>\n",
              "  "
            ]
          },
          "metadata": {},
          "execution_count": 4
        }
      ]
    },
    {
      "cell_type": "code",
      "source": [
        "a=train_val.isnull().sum()\n",
        "a[a>1]"
      ],
      "metadata": {
        "colab": {
          "base_uri": "https://localhost:8080/"
        },
        "id": "0dlX7_tOqObT",
        "outputId": "b4d1b2c7-698d-4f2a-e9c0-137d6e5374e8"
      },
      "execution_count": 5,
      "outputs": [
        {
          "output_type": "execute_result",
          "data": {
            "text/plain": [
              "duration    6331\n",
              "dtype: int64"
            ]
          },
          "metadata": {},
          "execution_count": 5
        }
      ]
    },
    {
      "cell_type": "code",
      "source": [
        "train_val['duration'].median()"
      ],
      "metadata": {
        "colab": {
          "base_uri": "https://localhost:8080/"
        },
        "id": "NuIvrYXbr0Ur",
        "outputId": "b421fcd5-32c3-4fca-bf7f-65f53e1df79d"
      },
      "execution_count": 6,
      "outputs": [
        {
          "output_type": "execute_result",
          "data": {
            "text/plain": [
              "314.89135074820206"
            ]
          },
          "metadata": {},
          "execution_count": 6
        }
      ]
    },
    {
      "cell_type": "code",
      "source": [
        "#とりあえず最初は中央値で補完\n",
        "train_val2= train_val.fillna(train_val.median())"
      ],
      "metadata": {
        "colab": {
          "base_uri": "https://localhost:8080/"
        },
        "id": "6AV-oxFar2P0",
        "outputId": "fc06e0da-375d-4b4d-fadd-8f5d722a8812"
      },
      "execution_count": 7,
      "outputs": [
        {
          "output_type": "stream",
          "name": "stderr",
          "text": [
            "<ipython-input-7-9e2d5178499f>:2: FutureWarning: The default value of numeric_only in DataFrame.median is deprecated. In a future version, it will default to False. In addition, specifying 'numeric_only=None' is deprecated. Select only valid columns or specify the value of numeric_only to silence this warning.\n",
            "  train_val2= train_val.fillna(train_val.median())\n"
          ]
        }
      ]
    },
    {
      "cell_type": "code",
      "source": [
        "#不均衡なデータであるか確認\n",
        "train_val2['y'].value_counts()"
      ],
      "metadata": {
        "colab": {
          "base_uri": "https://localhost:8080/"
        },
        "id": "hIiO6FcRr8GU",
        "outputId": "79750cf1-a738-4145-ec49-cc3a4b0ed276"
      },
      "execution_count": 8,
      "outputs": [
        {
          "output_type": "execute_result",
          "data": {
            "text/plain": [
              "0    16601\n",
              "1     7814\n",
              "Name: y, dtype: int64"
            ]
          },
          "metadata": {},
          "execution_count": 8
        }
      ]
    },
    {
      "cell_type": "code",
      "source": [
        "#とりあえず、全ての特徴量を利用してモデルを作ってみる。\n",
        "t =train_val2['y']\n",
        "x = train_val2.drop(str_col_name,axis=1)\n",
        "x =x.drop(['id','y','day'],axis=1)\n",
        "\n",
        "x_train,x_val,y_train,y_val = train_test_split(x,t,test_size=0.2,random_state=13)\n",
        "\n",
        "#不均衡データに対応できるように、class_weight引数も設定\n",
        "model = tree.DecisionTreeClassifier(random_state=3,max_depth=3,class_weight='balanced')\n",
        "\n",
        "#class_weightを指定しないとちなみに正解率は0.7ぐらい\n",
        "#model = tree.DecisionTreeClassifier(random_state=3,max_depth=5)\n",
        "model.fit(x_train,y_train)\n",
        "model.score(x_val,y_val)"
      ],
      "metadata": {
        "colab": {
          "base_uri": "https://localhost:8080/"
        },
        "id": "tW9RC9PMr-81",
        "outputId": "1821deea-8009-4d58-d7dd-a22aa74cf063"
      },
      "execution_count": 9,
      "outputs": [
        {
          "output_type": "execute_result",
          "data": {
            "text/plain": [
              "0.6493958631988531"
            ]
          },
          "metadata": {},
          "execution_count": 9
        }
      ]
    },
    {
      "cell_type": "code",
      "source": [
        "# def learn(x,t,depth=3):\n",
        "#     x_train,x_test,y_train,y_test = train_test_split(x,t,test_size = 0.2,random_state = 0)\n",
        "#     model = tree.DecisionTreeClassifier(max_depth =depth,random_state = 0,class_weight=\"balanced\")\n",
        "#     model.fit(x_train,y_train)\n",
        "\n",
        "#     #訓練データでも正解率を出している\n",
        "#     score=model.score(X=x_train,y=y_train)\n",
        "\n",
        "#     #テストデータで正解率を出している\n",
        "#     score2=model.score(X=x_test,y=y_test)\n",
        "#     return round(score,3),round(score2,3),model\n",
        "\n",
        "\n",
        "\n",
        "# for j in range(1,20): # jは木の深さ jには1～14が入る\n",
        "#     # xは特徴量、tは正解データ\n",
        "#     train_score,test_score,model = learn(x,t,depth = j)\n",
        "#     sentence=\"訓練データの正解率{}\"\n",
        "#     sentence2=\"テストデータの正解率{}\"\n",
        "#     total_sentence='深さ{}:'+sentence+sentence2\n",
        "#     print(total_sentence.format(j,train_score,test_score))\n"
      ],
      "metadata": {
        "id": "r25gjb1tscye"
      },
      "execution_count": 10,
      "outputs": []
    },
    {
      "cell_type": "code",
      "source": [
        "#まず、さくっと学習できるようなlearn関数を定義する。\n",
        "def learn(x,t,i):\n",
        "    x_train,x_val,y_train,y_val = train_test_split(x,t,test_size=0.2,random_state=13)\n",
        "\n",
        "    datas=[x_train,x_val,y_train,y_val]\n",
        "    #不均衡データに対応できるように、class_weight引数も設定\n",
        "    model = tree.DecisionTreeClassifier(random_state=i,max_depth=i,class_weight='balanced')\n",
        "    model.fit(x_train,y_train)\n",
        "    train_score=model.score(x_train,y_train)\n",
        "    \n",
        "    val_score=model.score(x_val,y_val)\n",
        "    return train_score,val_score,model,datas\n",
        "\n",
        "    #とりあえず、for文で様々な木の深さでの正解率を調べてみる\n",
        "for i in range(1,20):\n",
        "    s1,s2,model,datas = learn(x,t,i)\n",
        "    print(i,s1,s2)"
      ],
      "metadata": {
        "colab": {
          "base_uri": "https://localhost:8080/"
        },
        "id": "ED0IWSxRsdp7",
        "outputId": "8ad0138e-9818-4477-8237-2c3c9918f699"
      },
      "execution_count": 11,
      "outputs": [
        {
          "output_type": "stream",
          "name": "stdout",
          "text": [
            "1 0.6995187384804423 0.6993651443784559\n",
            "2 0.6492422690968667 0.6493958631988531\n",
            "3 0.6492422690968667 0.6493958631988531\n",
            "4 0.7357669465492525 0.7481056727421667\n",
            "5 0.7767765717796437 0.7773909481875896\n",
            "6 0.80124923202949 0.8023755887773909\n",
            "7 0.8224452181036248 0.8095433135367602\n",
            "8 0.8448699569936514 0.8238787630554987\n",
            "9 0.858386237968462 0.8230595945115707\n",
            "10 0.8756399754249437 0.829817734998976\n",
            "11 0.8987814867909072 0.8363710833503993\n",
            "12 0.910147450337907 0.8269506450952283\n",
            "13 0.9284251484742986 0.8236739709195167\n",
            "14 0.943170182265001 0.8124104034405079\n",
            "15 0.9587343845996313 0.820397296743805\n",
            "16 0.9684620110587754 0.8156870776162195\n",
            "17 0.9776264591439688 0.8177349989760393\n",
            "18 0.9845893917673562 0.8134343641204178\n",
            "19 0.9900163833708786 0.8152774933442556\n"
          ]
        }
      ]
    },
    {
      "cell_type": "code",
      "source": [
        "#深さ11以降はvalが停滞するので過学習が発生ここでテストデータでチェック\n",
        "model = tree.DecisionTreeClassifier(max_depth=11,random_state=11)\n",
        "model.fit(x,t)\n",
        "test2 = test.copy()\n",
        "test2=test2.fillna(train_val.median())\n",
        "\n",
        "test_y=test2['y']\n",
        "test_x = test2.drop(str_col_name,axis=1)\n",
        "test_x =test_x.drop(['id','y','day'],axis=1)\n",
        "model.score(test_x,test_y)"
      ],
      "metadata": {
        "colab": {
          "base_uri": "https://localhost:8080/"
        },
        "id": "miMzbI30tosx",
        "outputId": "83af5340-ef0f-4655-a455-42c25dfe2056"
      },
      "execution_count": 12,
      "outputs": [
        {
          "output_type": "stream",
          "name": "stderr",
          "text": [
            "<ipython-input-12-16e81aa1e0c5>:5: FutureWarning: The default value of numeric_only in DataFrame.median is deprecated. In a future version, it will default to False. In addition, specifying 'numeric_only=None' is deprecated. Select only valid columns or specify the value of numeric_only to silence this warning.\n",
            "  test2=test2.fillna(train_val.median())\n"
          ]
        },
        {
          "output_type": "execute_result",
          "data": {
            "text/plain": [
              "0.8330261702911905"
            ]
          },
          "metadata": {},
          "execution_count": 12
        }
      ]
    },
    {
      "cell_type": "code",
      "source": [
        "model.feature_importances_"
      ],
      "metadata": {
        "colab": {
          "base_uri": "https://localhost:8080/"
        },
        "id": "AFItWTcXuGk_",
        "outputId": "f7444b7f-83b8-44e0-a57a-13b5b0293a76"
      },
      "execution_count": 12,
      "outputs": [
        {
          "output_type": "execute_result",
          "data": {
            "text/plain": [
              "array([1.43315746e-01, 3.96812086e-02, 5.29793362e-01, 1.03042282e-01,\n",
              "       1.57441172e-02, 1.89964590e-03, 1.30908318e-03, 2.19315742e-03,\n",
              "       2.40999335e-03, 7.97533559e-04, 1.11527096e-03, 2.54012417e-03,\n",
              "       1.25782518e-03, 1.56103337e-03, 2.43834955e-03, 2.45315633e-04,\n",
              "       1.34849859e-03, 1.84850581e-03, 1.90339098e-03, 2.09766847e-03,\n",
              "       2.46703665e-03, 1.27069046e-03, 6.49505171e-02, 4.17388960e-02,\n",
              "       1.45361561e-02, 1.78548128e-03, 2.83889354e-03, 3.38443272e-04,\n",
              "       1.10739861e-03, 2.71660427e-04, 2.56367272e-03, 2.73496962e-03,\n",
              "       2.57382988e-03, 1.99502593e-03, 1.22091207e-03, 6.21851543e-04,\n",
              "       4.42452326e-04])"
            ]
          },
          "metadata": {},
          "execution_count": 12
        }
      ]
    },
    {
      "cell_type": "code",
      "source": [
        "#特徴量重要度の確認（上とは違うコード）(ちなみに、連続量とダミー変数を比べると、連続量の方が重要度は高め出力されてしまう事に注意)\n",
        "a=pd.Series(model.feature_importances_,index=x.columns).sort_values(ascending=False)\n",
        "a[0:9]#campaignやdurationが重要度が大きいと分かる"
      ],
      "metadata": {
        "colab": {
          "base_uri": "https://localhost:8080/"
        },
        "id": "Qrgym8pItzSH",
        "outputId": "26cd334a-eb18-4089-9a1b-e347a85d3aef"
      },
      "execution_count": 13,
      "outputs": [
        {
          "output_type": "execute_result",
          "data": {
            "text/plain": [
              "duration                     0.529793\n",
              "age                          0.143316\n",
              "campaign                     0.103042\n",
              "housing_yes                  0.064951\n",
              "loan_yes                     0.041739\n",
              "amount                       0.039681\n",
              "previous                     0.015744\n",
              "contact_sending _document    0.014536\n",
              "month_aug                    0.002839\n",
              "dtype: float64"
            ]
          },
          "metadata": {},
          "execution_count": 13
        }
      ]
    },
    {
      "cell_type": "code",
      "source": [
        "#durationの欠損値の処理を行う\n",
        "# durationに関係がありそうなものを見つけるためには7章の様に集計処理で判断したい。\n",
        "#よって、集計処理の軸になるstr_dfの列名をいったん確認\n",
        "print(str_df.columns)"
      ],
      "metadata": {
        "colab": {
          "base_uri": "https://localhost:8080/"
        },
        "id": "6zPfPk1hwdvs",
        "outputId": "44ee3e46-804a-41a2-8559-b6ebd8681771"
      },
      "execution_count": 14,
      "outputs": [
        {
          "output_type": "stream",
          "name": "stdout",
          "text": [
            "Index(['job', 'default', 'marital', 'education', 'housing', 'loan', 'contact',\n",
            "       'month'],\n",
            "      dtype='object')\n"
          ]
        }
      ]
    },
    {
      "cell_type": "code",
      "source": [
        "for name in str_df.columns:\n",
        "    print(train_val.groupby(name)['y'].mean())\n",
        "    print(\"next=========\")"
      ],
      "metadata": {
        "colab": {
          "base_uri": "https://localhost:8080/"
        },
        "id": "Di-IFhM-xUlk",
        "outputId": "837704f5-744a-40c4-c935-fda0ef0a4dc7"
      },
      "execution_count": 15,
      "outputs": [
        {
          "output_type": "stream",
          "name": "stdout",
          "text": [
            "job\n",
            "admin.           0.304550\n",
            "blue-collar      0.352886\n",
            "entrepreneur     0.390453\n",
            "housemaid        0.290043\n",
            "management       0.307299\n",
            "retired          0.369268\n",
            "self-employed    0.301974\n",
            "services         0.337611\n",
            "student          0.166667\n",
            "technician       0.307423\n",
            "unemployed       0.241084\n",
            "unknown          0.294118\n",
            "Name: y, dtype: float64\n",
            "next=========\n",
            "default\n",
            "no     0.321336\n",
            "yes    0.249428\n",
            "Name: y, dtype: float64\n",
            "next=========\n",
            "marital\n",
            "divorced    0.334059\n",
            "married     0.341211\n",
            "single      0.269086\n",
            "Name: y, dtype: float64\n",
            "next=========\n",
            "education\n",
            "primary      0.351921\n",
            "secondary    0.318327\n",
            "tertiary     0.301592\n",
            "unknown      0.354354\n",
            "Name: y, dtype: float64\n",
            "next=========\n",
            "housing\n",
            "no     0.217959\n",
            "yes    0.400910\n",
            "Name: y, dtype: float64\n",
            "next=========\n",
            "loan\n",
            "no     0.300195\n",
            "yes    0.424328\n",
            "Name: y, dtype: float64\n",
            "next=========\n",
            "contact\n",
            "cellular             0.277883\n",
            "sending _document    0.416372\n",
            "telephone            0.311842\n",
            "Name: y, dtype: float64\n",
            "next=========\n",
            "month\n",
            "apr    0.312070\n",
            "aug    0.251950\n",
            "dec    0.327731\n",
            "feb    0.266805\n",
            "jan    0.202073\n",
            "jul    0.307506\n",
            "jun    0.356744\n",
            "mar    0.354244\n",
            "may    0.389833\n",
            "nov    0.234457\n",
            "oct    0.308483\n",
            "sep    0.327217\n",
            "Name: y, dtype: float64\n",
            "next=========\n"
          ]
        }
      ]
    },
    {
      "cell_type": "code",
      "source": [
        "#housing. loan. contactあたりが関係してそうだ。\n",
        "#ピボットテーブルを作成する\n",
        "\n",
        "print(pd.pivot_table(train_val,index=\"housing\",columns=\"loan\",values=\"duration\"))\n",
        "print(pd.pivot_table(train_val,index=\"housing\",columns=\"contact\",values=\"duration\"))\n",
        "print(pd.pivot_table(train_val,index=\"loan\",columns=\"contact\",values=\"duration\"))"
      ],
      "metadata": {
        "colab": {
          "base_uri": "https://localhost:8080/"
        },
        "id": "jO31FcZryptM",
        "outputId": "7ff0a527-a7da-4407-9605-78a816a46e77"
      },
      "execution_count": 16,
      "outputs": [
        {
          "output_type": "stream",
          "name": "stdout",
          "text": [
            "loan             no         yes\n",
            "housing                        \n",
            "no       237.256887  301.180261\n",
            "yes      332.635840  439.472217\n",
            "contact    cellular  sending _document   telephone\n",
            "housing                                           \n",
            "no       249.821962         249.179202  272.785529\n",
            "yes      348.532350         349.179816  368.638141\n",
            "contact    cellular  sending _document   telephone\n",
            "loan                                              \n",
            "no       297.588613         314.969378  304.960446\n",
            "yes      375.465455         400.911698  379.000771\n"
          ]
        }
      ]
    },
    {
      "cell_type": "code",
      "source": [
        "#今回はloan housingの２×２のものを使用する\n",
        "def nan_fill(train_val):\n",
        "    isnull = train_val['duration'].isnull()\n",
        "\n",
        "    #train_valを変えたくないので、py基本文法のcopyメソッドでコピーを作って\n",
        "    #train_val2に代入\n",
        "    train_val2 = train_val.copy()\n",
        "    #housing=yesの処理\n",
        "    train_val2.loc[(isnull) & (train_val2['housing']=='yes') \n",
        "                  &(train_val2['loan']=='yes'),'duration' ]=439\n",
        "    train_val2.loc[(isnull) & (train_val2['housing']=='yes') \n",
        "                  &(train_val2['loan']=='no'),'duration' ]=332\n",
        "\n",
        "    #housing=noの処理\n",
        "    train_val2.loc[(isnull) & (train_val2['housing']=='no') \n",
        "                  &(train_val2['loan']=='yes'),'duration' ]=301\n",
        "    train_val2.loc[(isnull) & (train_val2['housing']=='no') \n",
        "                  &(train_val2['loan']=='no'),'duration' ]=237\n",
        "    \n",
        "    return train_val2\n",
        "train_val2=nan_fill(train_val)\n",
        "\n",
        "\n",
        "#  train_val2.loc[(isnull) & (train_val2['housing']=='yes') \n",
        "#　　　　&(train_val2['loan']=='yes'),'duration' ]=439 \n",
        "\n",
        "#という行は、duration 列が欠損している場合かつ条件 \n",
        "#(isnull) & (train_val2['housing']=='yes') &(train_val2['loan']=='yes') が満たされる場合に、\n",
        "#その欠損箇所に値 439 を代入しています。\n",
        "\n",
        "#この処理は、特定の条件に基づいて欠損値を補完するためのものです。\n",
        "#housing 列が 'yes' であり、loan 列が 'yes' である場合に限定して欠損値を 439 で補完しています。\n",
        "\n"
      ],
      "metadata": {
        "id": "yvK0X_6L2N6y"
      },
      "execution_count": 20,
      "outputs": []
    },
    {
      "cell_type": "code",
      "source": [
        "#特徴量重要度が大きかった項目とyの関係\n",
        "\n",
        "train_val2.groupby('y')['duration'].median()"
      ],
      "metadata": {
        "colab": {
          "base_uri": "https://localhost:8080/"
        },
        "id": "2fym6RS74Jni",
        "outputId": "3aefec49-bcb0-44f2-f3fa-1bcd3b6fe33b"
      },
      "execution_count": 21,
      "outputs": [
        {
          "output_type": "execute_result",
          "data": {
            "text/plain": [
              "y\n",
              "0    263.575464\n",
              "1    346.960871\n",
              "Name: duration, dtype: float64"
            ]
          },
          "metadata": {},
          "execution_count": 21
        }
      ]
    },
    {
      "cell_type": "code",
      "source": [
        "train_val2.groupby('y')['amount'].median()"
      ],
      "metadata": {
        "colab": {
          "base_uri": "https://localhost:8080/"
        },
        "id": "ySDSDN7w4PyU",
        "outputId": "58d712f1-aded-48f0-f5f7-322f5aa75f3b"
      },
      "execution_count": 22,
      "outputs": [
        {
          "output_type": "execute_result",
          "data": {
            "text/plain": [
              "y\n",
              "0    449.0\n",
              "1    449.0\n",
              "Name: amount, dtype: float64"
            ]
          },
          "metadata": {},
          "execution_count": 22
        }
      ]
    },
    {
      "cell_type": "code",
      "source": [
        "train_val2.groupby('y')['campaign'].median()"
      ],
      "metadata": {
        "colab": {
          "base_uri": "https://localhost:8080/"
        },
        "id": "q2rifIos4WR6",
        "outputId": "1d9b885e-bca0-4f82-da17-21847aad4422"
      },
      "execution_count": 23,
      "outputs": [
        {
          "output_type": "execute_result",
          "data": {
            "text/plain": [
              "y\n",
              "0    2.0\n",
              "1    3.0\n",
              "Name: campaign, dtype: float64"
            ]
          },
          "metadata": {},
          "execution_count": 23
        }
      ]
    },
    {
      "cell_type": "code",
      "source": [
        "train_val2.groupby('y')['age'].median()"
      ],
      "metadata": {
        "colab": {
          "base_uri": "https://localhost:8080/"
        },
        "id": "oH7GbzUp4gbu",
        "outputId": "c6ef2b08-6337-4ea8-d510-6d4c6d008901"
      },
      "execution_count": 24,
      "outputs": [
        {
          "output_type": "execute_result",
          "data": {
            "text/plain": [
              "y\n",
              "0    38.0\n",
              "1    41.0\n",
              "Name: age, dtype: float64"
            ]
          },
          "metadata": {},
          "execution_count": 24
        }
      ]
    },
    {
      "cell_type": "code",
      "source": [
        "#上記よりdurationの値が大きければy=1になる確率が上がりそうだということがわかる\n",
        "\n",
        "#ここでいったん、learn関数で分析\n",
        "\n",
        "t =train_val2['y']\n",
        "\n",
        "x = train_val2.drop(str_col_name,axis=1)\n",
        "x =x.drop(['id','y','day'],axis=1)\n",
        "#x =train_val2[xcol]\n",
        "for i in range(1,20):\n",
        "    s1,s2,model,datas = learn(x,t,i)\n",
        "    print(i,s1,s2)"
      ],
      "metadata": {
        "colab": {
          "base_uri": "https://localhost:8080/"
        },
        "id": "D2OtE44D4ove",
        "outputId": "acf1755a-c362-4752-f1a1-f367b3ed4aa1"
      },
      "execution_count": 28,
      "outputs": [
        {
          "output_type": "stream",
          "name": "stdout",
          "text": [
            "1 0.7462113454843334 0.7511775547818964\n",
            "2 0.7462113454843334 0.7511775547818964\n",
            "3 0.7507167724759369 0.7554781896375179\n",
            "4 0.7481056727421667 0.7569117345893918\n",
            "5 0.7746262543518329 0.7751382346917879\n",
            "6 0.7780565226295311 0.7712471841081302\n",
            "7 0.8182469793159942 0.8117960270325619\n",
            "8 0.8275138234691788 0.8077001843129223\n",
            "9 0.8483514233053451 0.8273602293671923\n",
            "10 0.8692402211755068 0.8335039934466516\n",
            "11 0.8782510751587139 0.8251075158713905\n",
            "12 0.8999590415728036 0.8261314765513005\n",
            "13 0.914294491091542 0.8281793979111202\n",
            "14 0.9298074953921769 0.8220356338316609\n",
            "15 0.9457812819987712 0.8220356338316609\n",
            "16 0.9606287118574647 0.820602088879787\n",
            "17 0.9706123284865861 0.8171206225680934\n",
            "18 0.9785992217898832 0.8187589596559492\n",
            "19 0.9862277288552119 0.8199877124718411\n"
          ]
        }
      ]
    },
    {
      "cell_type": "code",
      "source": [
        "#どのような間違い方をしているのか確認\n",
        "s1,s2,model,datas = learn(x,t,10)\n",
        "\n",
        "#訓練データでの予測結果と実際の値の2軸で個数集計flagがFalseならば、検証データで集計\n",
        "def syuukei(model,datas,flag=False):\n",
        "    if flag:\n",
        "        pre=model.predict(datas[0])\n",
        "        y_val=datas[2]\n",
        "    else:\n",
        "        pre=model.predict(datas[1])\n",
        "        y_val=datas[3]\n",
        "    data={\n",
        "        \"pred\":pre,\n",
        "        \"true\":y_val\n",
        "    }\n",
        "    tmp=pd.DataFrame(data)\n",
        "    return tmp,pd.pivot_table(tmp,index=\"true\",columns=\"pred\",values=\"true\",aggfunc=len)\n",
        "tmp,a=syuukei(model,datas,False)\n",
        "a"
      ],
      "metadata": {
        "colab": {
          "base_uri": "https://localhost:8080/",
          "height": 143
        },
        "id": "1Np_mOaS5FV3",
        "outputId": "4df71499-5f07-4413-b0b4-fec2974e66d4"
      },
      "execution_count": 29,
      "outputs": [
        {
          "output_type": "execute_result",
          "data": {
            "text/plain": [
              "pred     0     1\n",
              "true            \n",
              "0     2796   587\n",
              "1      226  1274"
            ],
            "text/html": [
              "\n",
              "  <div id=\"df-7d7c2d17-2dc7-4224-9255-2ec36b196286\">\n",
              "    <div class=\"colab-df-container\">\n",
              "      <div>\n",
              "<style scoped>\n",
              "    .dataframe tbody tr th:only-of-type {\n",
              "        vertical-align: middle;\n",
              "    }\n",
              "\n",
              "    .dataframe tbody tr th {\n",
              "        vertical-align: top;\n",
              "    }\n",
              "\n",
              "    .dataframe thead th {\n",
              "        text-align: right;\n",
              "    }\n",
              "</style>\n",
              "<table border=\"1\" class=\"dataframe\">\n",
              "  <thead>\n",
              "    <tr style=\"text-align: right;\">\n",
              "      <th>pred</th>\n",
              "      <th>0</th>\n",
              "      <th>1</th>\n",
              "    </tr>\n",
              "    <tr>\n",
              "      <th>true</th>\n",
              "      <th></th>\n",
              "      <th></th>\n",
              "    </tr>\n",
              "  </thead>\n",
              "  <tbody>\n",
              "    <tr>\n",
              "      <th>0</th>\n",
              "      <td>2796</td>\n",
              "      <td>587</td>\n",
              "    </tr>\n",
              "    <tr>\n",
              "      <th>1</th>\n",
              "      <td>226</td>\n",
              "      <td>1274</td>\n",
              "    </tr>\n",
              "  </tbody>\n",
              "</table>\n",
              "</div>\n",
              "      <button class=\"colab-df-convert\" onclick=\"convertToInteractive('df-7d7c2d17-2dc7-4224-9255-2ec36b196286')\"\n",
              "              title=\"Convert this dataframe to an interactive table.\"\n",
              "              style=\"display:none;\">\n",
              "        \n",
              "  <svg xmlns=\"http://www.w3.org/2000/svg\" height=\"24px\"viewBox=\"0 0 24 24\"\n",
              "       width=\"24px\">\n",
              "    <path d=\"M0 0h24v24H0V0z\" fill=\"none\"/>\n",
              "    <path d=\"M18.56 5.44l.94 2.06.94-2.06 2.06-.94-2.06-.94-.94-2.06-.94 2.06-2.06.94zm-11 1L8.5 8.5l.94-2.06 2.06-.94-2.06-.94L8.5 2.5l-.94 2.06-2.06.94zm10 10l.94 2.06.94-2.06 2.06-.94-2.06-.94-.94-2.06-.94 2.06-2.06.94z\"/><path d=\"M17.41 7.96l-1.37-1.37c-.4-.4-.92-.59-1.43-.59-.52 0-1.04.2-1.43.59L10.3 9.45l-7.72 7.72c-.78.78-.78 2.05 0 2.83L4 21.41c.39.39.9.59 1.41.59.51 0 1.02-.2 1.41-.59l7.78-7.78 2.81-2.81c.8-.78.8-2.07 0-2.86zM5.41 20L4 18.59l7.72-7.72 1.47 1.35L5.41 20z\"/>\n",
              "  </svg>\n",
              "      </button>\n",
              "      \n",
              "  <style>\n",
              "    .colab-df-container {\n",
              "      display:flex;\n",
              "      flex-wrap:wrap;\n",
              "      gap: 12px;\n",
              "    }\n",
              "\n",
              "    .colab-df-convert {\n",
              "      background-color: #E8F0FE;\n",
              "      border: none;\n",
              "      border-radius: 50%;\n",
              "      cursor: pointer;\n",
              "      display: none;\n",
              "      fill: #1967D2;\n",
              "      height: 32px;\n",
              "      padding: 0 0 0 0;\n",
              "      width: 32px;\n",
              "    }\n",
              "\n",
              "    .colab-df-convert:hover {\n",
              "      background-color: #E2EBFA;\n",
              "      box-shadow: 0px 1px 2px rgba(60, 64, 67, 0.3), 0px 1px 3px 1px rgba(60, 64, 67, 0.15);\n",
              "      fill: #174EA6;\n",
              "    }\n",
              "\n",
              "    [theme=dark] .colab-df-convert {\n",
              "      background-color: #3B4455;\n",
              "      fill: #D2E3FC;\n",
              "    }\n",
              "\n",
              "    [theme=dark] .colab-df-convert:hover {\n",
              "      background-color: #434B5C;\n",
              "      box-shadow: 0px 1px 3px 1px rgba(0, 0, 0, 0.15);\n",
              "      filter: drop-shadow(0px 1px 2px rgba(0, 0, 0, 0.3));\n",
              "      fill: #FFFFFF;\n",
              "    }\n",
              "  </style>\n",
              "\n",
              "      <script>\n",
              "        const buttonEl =\n",
              "          document.querySelector('#df-7d7c2d17-2dc7-4224-9255-2ec36b196286 button.colab-df-convert');\n",
              "        buttonEl.style.display =\n",
              "          google.colab.kernel.accessAllowed ? 'block' : 'none';\n",
              "\n",
              "        async function convertToInteractive(key) {\n",
              "          const element = document.querySelector('#df-7d7c2d17-2dc7-4224-9255-2ec36b196286');\n",
              "          const dataTable =\n",
              "            await google.colab.kernel.invokeFunction('convertToInteractive',\n",
              "                                                     [key], {});\n",
              "          if (!dataTable) return;\n",
              "\n",
              "          const docLinkHtml = 'Like what you see? Visit the ' +\n",
              "            '<a target=\"_blank\" href=https://colab.research.google.com/notebooks/data_table.ipynb>data table notebook</a>'\n",
              "            + ' to learn more about interactive tables.';\n",
              "          element.innerHTML = '';\n",
              "          dataTable['output_type'] = 'display_data';\n",
              "          await google.colab.output.renderOutput(dataTable, element);\n",
              "          const docLink = document.createElement('div');\n",
              "          docLink.innerHTML = docLinkHtml;\n",
              "          element.appendChild(docLink);\n",
              "        }\n",
              "      </script>\n",
              "    </div>\n",
              "  </div>\n",
              "  "
            ]
          },
          "metadata": {},
          "execution_count": 29
        }
      ]
    },
    {
      "cell_type": "code",
      "source": [
        "#本当はｙ＝０の中で、正確に予測された人と謝った予測をされた人でどういう傾向があるか分析\n",
        "\n",
        "false=tmp.loc[(tmp['pred']==1)&(tmp['true']==0)].index\n",
        "true=tmp.loc[(tmp['pred']==0)&(tmp['true']==0)].index\n",
        "true_df=train_val2.loc[true]\n",
        "false_df=train_val2.loc[false]\n",
        "pd.concat([true_df.mean()[\"age\":],false_df.mean()[\"age\":]],axis=1).plot(kind=\"bar\")\n",
        "true"
      ],
      "metadata": {
        "colab": {
          "base_uri": "https://localhost:8080/",
          "height": 814
        },
        "id": "x7QWHRa7pesq",
        "outputId": "3ade86f9-55fc-48ef-afa5-5ea75b7784e4"
      },
      "execution_count": 30,
      "outputs": [
        {
          "output_type": "stream",
          "name": "stderr",
          "text": [
            "<ipython-input-30-f4890ebb3eb0>:7: FutureWarning: The default value of numeric_only in DataFrame.mean is deprecated. In a future version, it will default to False. In addition, specifying 'numeric_only=None' is deprecated. Select only valid columns or specify the value of numeric_only to silence this warning.\n",
            "  pd.concat([true_df.mean()[\"age\":],false_df.mean()[\"age\":]],axis=1).plot(kind=\"bar\")\n",
            "<ipython-input-30-f4890ebb3eb0>:7: FutureWarning: The default value of numeric_only in DataFrame.mean is deprecated. In a future version, it will default to False. In addition, specifying 'numeric_only=None' is deprecated. Select only valid columns or specify the value of numeric_only to silence this warning.\n",
            "  pd.concat([true_df.mean()[\"age\":],false_df.mean()[\"age\":]],axis=1).plot(kind=\"bar\")\n"
          ]
        },
        {
          "output_type": "execute_result",
          "data": {
            "text/plain": [
              "Int64Index([ 8008,  5734,  1594,  2167, 10468, 26200,  7851,  4695, 24120,\n",
              "            18766,\n",
              "            ...\n",
              "            14655,  5003,  4196, 17968, 13960,  1548,   508,  7200,  9861,\n",
              "            20515],\n",
              "           dtype='int64', length=2796)"
            ]
          },
          "metadata": {},
          "execution_count": 30
        },
        {
          "output_type": "display_data",
          "data": {
            "text/plain": [
              "<Figure size 640x480 with 1 Axes>"
            ],
            "image/png": "[encoded data removed]"
          },
          "metadata": {}
        }
      ]
    },
    {
      "cell_type": "code",
      "source": [
        "#値にばらつきが大きいので、標準化してもう一度グラフ化\n",
        "from sklearn.preprocessing import StandardScaler\n",
        "\n",
        "sc = StandardScaler()\n",
        "tmp2=train_val2.drop(str_col_name,axis=1)\n",
        "sc_data = sc.fit_transform(tmp2)\n",
        "sc_df = pd.DataFrame(sc_data,columns=tmp2.columns,index=tmp2.index)\n",
        "\n",
        "true_df=sc_df.loc[true]\n",
        "false_df=sc_df.loc[false]\n",
        "true_df\n",
        "temp2=pd.concat([false_df.mean()[\"age\":],true_df.mean()[\"age\":]],axis=1)\n",
        "temp2.plot(kind=\"bar\")"
      ],
      "metadata": {
        "colab": {
          "base_uri": "https://localhost:8080/",
          "height": 629
        },
        "id": "9ApNzfuQqL0h",
        "outputId": "fcc6fa3b-c0ca-441a-9bbf-38ff9fff6963"
      },
      "execution_count": 31,
      "outputs": [
        {
          "output_type": "execute_result",
          "data": {
            "text/plain": [
              "<Axes: >"
            ]
          },
          "metadata": {},
          "execution_count": 31
        },
        {
          "output_type": "display_data",
          "data": {
            "text/plain": [
              "<Figure size 640x480 with 1 Axes>"
            ],
            "image/png": "[encoded data removed]"
          },
          "metadata": {}
        }
      ]
    },
    {
      "cell_type": "code",
      "source": [
        "model_tree=tree.DecisionTreeClassifier(max_depth=10,random_state=10,class_weight=\"balanced\")\n",
        "model_tree.fit(x,t)\n",
        "\n",
        "test2=nan_fill(test)\n",
        "t =test2['y']\n",
        "x = test2.drop(str_col_name,axis=1)\n",
        "x =x.drop(['id','y','day'],axis=1)\n",
        "model_tree.score(x,t)"
      ],
      "metadata": {
        "colab": {
          "base_uri": "https://localhost:8080/"
        },
        "id": "e13lTpZpqWot",
        "outputId": "242638fe-0751-4b50-dff1-d0ee9042094d"
      },
      "execution_count": 32,
      "outputs": [
        {
          "output_type": "execute_result",
          "data": {
            "text/plain": [
              "0.815333579063767"
            ]
          },
          "metadata": {},
          "execution_count": 32
        }
      ]
    }
  ]
}