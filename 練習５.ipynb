{
  "nbformat": 4,
  "nbformat_minor": 0,
  "metadata": {
    "colab": {
      "provenance": [],
      "authorship_tag": "ABX9TyME1Lupe2BCKywnl8GpRTyI",
      "include_colab_link": true
    },
    "kernelspec": {
      "name": "python3",
      "display_name": "Python 3"
    },
    "language_info": {
      "name": "python"
    }
  },
  "cells": [
    {
      "cell_type": "markdown",
      "metadata": {
        "id": "view-in-github",
        "colab_type": "text"
      },
      "source": [
        "<a href=\"https://colab.research.google.com/github/yamaguchinorimitsu/ajax_app/blob/master/%E7%B7%B4%E7%BF%92%EF%BC%95.ipynb\" target=\"_parent\"><img src=\"https://colab.research.google.com/assets/colab-badge.svg\" alt=\"Open In Colab\"/></a>"
      ]
    },
    {
      "cell_type": "code",
      "execution_count": null,
      "metadata": {
        "id": "jlNVR7-dlMX9"
      },
      "outputs": [],
      "source": [
        "import pandas as pd\n",
        "from sklearn.linear_model import LinearRegression\n",
        "\n",
        "# データの準備\n",
        "data = {\n",
        "    '売上': [100, 150, 200, 250, 300],  # 過去の売上データ\n",
        "    '仕入れ量1': [10, 15, 20, 25, 30],   # 仕入れ量1のデータ\n",
        "    '仕入れ量2': [5, 7, 10, 12, 15],     # 仕入れ量2のデータ\n",
        "    '仕入れ量3': [8, 10, 12, 15, 18]     # 仕入れ量3のデータ\n",
        "}\n",
        "\n",
        "df = pd.DataFrame(data)\n",
        "\n",
        "# 特徴量とターゲットの分割\n",
        "X = df[['仕入れ量1', '仕入れ量2', '仕入れ量3']]\n",
        "y = df['売上']\n",
        "\n",
        "# モデルの構築と訓練\n",
        "model = LinearRegression()\n",
        "model.fit(X, y)\n",
        "\n",
        "# 新しい売上データに対する仕入れ量の予測\n",
        "new_sales = 350\n",
        "new_inputs = model.predict([[new_sales]])\n",
        "print('予測される仕入れ量:', new_inputs)\n"
      ]
    }
  ]
}