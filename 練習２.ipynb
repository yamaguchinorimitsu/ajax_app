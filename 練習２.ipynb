{
  "nbformat": 4,
  "nbformat_minor": 0,
  "metadata": {
    "colab": {
      "provenance": [],
      "authorship_tag": "ABX9TyP6ayAVNLV43qXslDjB5ZSq",
      "include_colab_link": true
    },
    "kernelspec": {
      "name": "python3",
      "display_name": "Python 3"
    },
    "language_info": {
      "name": "python"
    }
  },
  "cells": [
    {
      "cell_type": "markdown",
      "metadata": {
        "id": "view-in-github",
        "colab_type": "text"
      },
      "source": [
        "<a href=\"https://colab.research.google.com/github/yamaguchinorimitsu/ajax_app/blob/master/%E7%B7%B4%E7%BF%92%EF%BC%92.ipynb\" target=\"_parent\"><img src=\"https://colab.research.google.com/assets/colab-badge.svg\" alt=\"Open In Colab\"/></a>"
      ]
    },
    {
      "cell_type": "code",
      "execution_count": 2,
      "metadata": {
        "colab": {
          "base_uri": "https://localhost:8080/",
          "height": 206
        },
        "id": "xv25f4ut72hR",
        "outputId": "6a46b9b1-2bca-47c8-d440-6b43dcf36596"
      },
      "outputs": [
        {
          "output_type": "execute_result",
          "data": {
            "text/plain": [
              "   cinema_id   SNS1  SNS2         actor  original  sales\n",
              "0       1375  291.0  1044   8808.994029         0   9731\n",
              "1       1000  363.0   568  10290.709370         1  10210\n",
              "2       1390  158.0   431   6340.388534         1   8227\n",
              "3       1499  261.0   578   8250.485081         0   9658\n",
              "4       1164  209.0   683  10908.539550         0   9286"
            ],
            "text/html": [
              "\n",
              "  <div id=\"df-b1796392-44ec-4e8e-8406-78560156fcdb\">\n",
              "    <div class=\"colab-df-container\">\n",
              "      <div>\n",
              "<style scoped>\n",
              "    .dataframe tbody tr th:only-of-type {\n",
              "        vertical-align: middle;\n",
              "    }\n",
              "\n",
              "    .dataframe tbody tr th {\n",
              "        vertical-align: top;\n",
              "    }\n",
              "\n",
              "    .dataframe thead th {\n",
              "        text-align: right;\n",
              "    }\n",
              "</style>\n",
              "<table border=\"1\" class=\"dataframe\">\n",
              "  <thead>\n",
              "    <tr style=\"text-align: right;\">\n",
              "      <th></th>\n",
              "      <th>cinema_id</th>\n",
              "      <th>SNS1</th>\n",
              "      <th>SNS2</th>\n",
              "      <th>actor</th>\n",
              "      <th>original</th>\n",
              "      <th>sales</th>\n",
              "    </tr>\n",
              "  </thead>\n",
              "  <tbody>\n",
              "    <tr>\n",
              "      <th>0</th>\n",
              "      <td>1375</td>\n",
              "      <td>291.0</td>\n",
              "      <td>1044</td>\n",
              "      <td>8808.994029</td>\n",
              "      <td>0</td>\n",
              "      <td>9731</td>\n",
              "    </tr>\n",
              "    <tr>\n",
              "      <th>1</th>\n",
              "      <td>1000</td>\n",
              "      <td>363.0</td>\n",
              "      <td>568</td>\n",
              "      <td>10290.709370</td>\n",
              "      <td>1</td>\n",
              "      <td>10210</td>\n",
              "    </tr>\n",
              "    <tr>\n",
              "      <th>2</th>\n",
              "      <td>1390</td>\n",
              "      <td>158.0</td>\n",
              "      <td>431</td>\n",
              "      <td>6340.388534</td>\n",
              "      <td>1</td>\n",
              "      <td>8227</td>\n",
              "    </tr>\n",
              "    <tr>\n",
              "      <th>3</th>\n",
              "      <td>1499</td>\n",
              "      <td>261.0</td>\n",
              "      <td>578</td>\n",
              "      <td>8250.485081</td>\n",
              "      <td>0</td>\n",
              "      <td>9658</td>\n",
              "    </tr>\n",
              "    <tr>\n",
              "      <th>4</th>\n",
              "      <td>1164</td>\n",
              "      <td>209.0</td>\n",
              "      <td>683</td>\n",
              "      <td>10908.539550</td>\n",
              "      <td>0</td>\n",
              "      <td>9286</td>\n",
              "    </tr>\n",
              "  </tbody>\n",
              "</table>\n",
              "</div>\n",
              "      <button class=\"colab-df-convert\" onclick=\"convertToInteractive('df-b1796392-44ec-4e8e-8406-78560156fcdb')\"\n",
              "              title=\"Convert this dataframe to an interactive table.\"\n",
              "              style=\"display:none;\">\n",
              "        \n",
              "  <svg xmlns=\"http://www.w3.org/2000/svg\" height=\"24px\"viewBox=\"0 0 24 24\"\n",
              "       width=\"24px\">\n",
              "    <path d=\"M0 0h24v24H0V0z\" fill=\"none\"/>\n",
              "    <path d=\"M18.56 5.44l.94 2.06.94-2.06 2.06-.94-2.06-.94-.94-2.06-.94 2.06-2.06.94zm-11 1L8.5 8.5l.94-2.06 2.06-.94-2.06-.94L8.5 2.5l-.94 2.06-2.06.94zm10 10l.94 2.06.94-2.06 2.06-.94-2.06-.94-.94-2.06-.94 2.06-2.06.94z\"/><path d=\"M17.41 7.96l-1.37-1.37c-.4-.4-.92-.59-1.43-.59-.52 0-1.04.2-1.43.59L10.3 9.45l-7.72 7.72c-.78.78-.78 2.05 0 2.83L4 21.41c.39.39.9.59 1.41.59.51 0 1.02-.2 1.41-.59l7.78-7.78 2.81-2.81c.8-.78.8-2.07 0-2.86zM5.41 20L4 18.59l7.72-7.72 1.47 1.35L5.41 20z\"/>\n",
              "  </svg>\n",
              "      </button>\n",
              "      \n",
              "  <style>\n",
              "    .colab-df-container {\n",
              "      display:flex;\n",
              "      flex-wrap:wrap;\n",
              "      gap: 12px;\n",
              "    }\n",
              "\n",
              "    .colab-df-convert {\n",
              "      background-color: #E8F0FE;\n",
              "      border: none;\n",
              "      border-radius: 50%;\n",
              "      cursor: pointer;\n",
              "      display: none;\n",
              "      fill: #1967D2;\n",
              "      height: 32px;\n",
              "      padding: 0 0 0 0;\n",
              "      width: 32px;\n",
              "    }\n",
              "\n",
              "    .colab-df-convert:hover {\n",
              "      background-color: #E2EBFA;\n",
              "      box-shadow: 0px 1px 2px rgba(60, 64, 67, 0.3), 0px 1px 3px 1px rgba(60, 64, 67, 0.15);\n",
              "      fill: #174EA6;\n",
              "    }\n",
              "\n",
              "    [theme=dark] .colab-df-convert {\n",
              "      background-color: #3B4455;\n",
              "      fill: #D2E3FC;\n",
              "    }\n",
              "\n",
              "    [theme=dark] .colab-df-convert:hover {\n",
              "      background-color: #434B5C;\n",
              "      box-shadow: 0px 1px 3px 1px rgba(0, 0, 0, 0.15);\n",
              "      filter: drop-shadow(0px 1px 2px rgba(0, 0, 0, 0.3));\n",
              "      fill: #FFFFFF;\n",
              "    }\n",
              "  </style>\n",
              "\n",
              "      <script>\n",
              "        const buttonEl =\n",
              "          document.querySelector('#df-b1796392-44ec-4e8e-8406-78560156fcdb button.colab-df-convert');\n",
              "        buttonEl.style.display =\n",
              "          google.colab.kernel.accessAllowed ? 'block' : 'none';\n",
              "\n",
              "        async function convertToInteractive(key) {\n",
              "          const element = document.querySelector('#df-b1796392-44ec-4e8e-8406-78560156fcdb');\n",
              "          const dataTable =\n",
              "            await google.colab.kernel.invokeFunction('convertToInteractive',\n",
              "                                                     [key], {});\n",
              "          if (!dataTable) return;\n",
              "\n",
              "          const docLinkHtml = 'Like what you see? Visit the ' +\n",
              "            '<a target=\"_blank\" href=https://colab.research.google.com/notebooks/data_table.ipynb>data table notebook</a>'\n",
              "            + ' to learn more about interactive tables.';\n",
              "          element.innerHTML = '';\n",
              "          dataTable['output_type'] = 'display_data';\n",
              "          await google.colab.output.renderOutput(dataTable, element);\n",
              "          const docLink = document.createElement('div');\n",
              "          docLink.innerHTML = docLinkHtml;\n",
              "          element.appendChild(docLink);\n",
              "        }\n",
              "      </script>\n",
              "    </div>\n",
              "  </div>\n",
              "  "
            ]
          },
          "metadata": {},
          "execution_count": 2
        }
      ],
      "source": [
        "import pandas as pd\n",
        "from sklearn.model_selection import train_test_split\n",
        "from sklearn.ensemble import RandomForestRegressor\n",
        "from sklearn.linear_model import LinearRegression\n",
        "from sklearn.ensemble import RandomForestClassifier\n",
        "from sklearn.linear_model import LogisticRegression\n",
        "from sklearn.metrics import mean_squared_error, accuracy_score\n",
        "\n",
        "\n",
        "# CSVファイルを読み込み\n",
        "df = pd.read_csv('/content/cinema.csv')\n",
        "\n",
        "df.head()"
      ]
    },
    {
      "cell_type": "code",
      "source": [
        "# 欠損値の確認\n",
        "missing_values = df.isnull().sum()\n",
        "print(\"欠損値の数:\\n\", missing_values)"
      ],
      "metadata": {
        "colab": {
          "base_uri": "https://localhost:8080/"
        },
        "id": "2UnJ40Vl9mlZ",
        "outputId": "b355f68d-5d8f-407d-c75c-10343a5f26ad"
      },
      "execution_count": 3,
      "outputs": [
        {
          "output_type": "stream",
          "name": "stdout",
          "text": [
            "欠損値の数:\n",
            " cinema_id    0\n",
            "SNS1         1\n",
            "SNS2         0\n",
            "actor        1\n",
            "original     0\n",
            "sales        0\n",
            "dtype: int64\n"
          ]
        }
      ]
    },
    {
      "cell_type": "code",
      "source": [
        "# 欠損値を平均値で補完\n",
        "df2 = df.fillna(df.mean(numeric_only=True))"
      ],
      "metadata": {
        "id": "LJJEkYzN9spt"
      },
      "execution_count": 12,
      "outputs": []
    },
    {
      "cell_type": "code",
      "source": [
        "import matplotlib.pyplot as plt\n",
        "\n",
        "df2.plot(kind='scatter', x='SNS2', y='sales')\n",
        "plt.xlabel('SNS2')\n",
        "plt.ylabel('sales')\n",
        "plt.title('Scatter Plot')\n",
        "plt.show()"
      ],
      "metadata": {
        "colab": {
          "base_uri": "https://localhost:8080/",
          "height": 1000
        },
        "id": "X_iU82aX92y6",
        "outputId": "572f9d30-5de4-4e9a-b287-8d9c3be51566"
      },
      "execution_count": 14,
      "outputs": [
        {
          "output_type": "stream",
          "name": "stderr",
          "text": [
            "WARNING:matplotlib.font_manager:findfont: Font family 'IPAexGothic' not found.\n",
            "WARNING:matplotlib.font_manager:findfont: Font family 'IPAexGothic' not found.\n",
            "WARNING:matplotlib.font_manager:findfont: Font family 'IPAexGothic' not found.\n",
            "WARNING:matplotlib.font_manager:findfont: Font family 'IPAexGothic' not found.\n",
            "WARNING:matplotlib.font_manager:findfont: Font family 'IPAexGothic' not found.\n",
            "WARNING:matplotlib.font_manager:findfont: Font family 'IPAexGothic' not found.\n",
            "WARNING:matplotlib.font_manager:findfont: Font family 'IPAexGothic' not found.\n",
            "WARNING:matplotlib.font_manager:findfont: Font family 'IPAexGothic' not found.\n",
            "WARNING:matplotlib.font_manager:findfont: Font family 'IPAexGothic' not found.\n",
            "WARNING:matplotlib.font_manager:findfont: Font family 'IPAexGothic' not found.\n",
            "WARNING:matplotlib.font_manager:findfont: Font family 'IPAexGothic' not found.\n",
            "WARNING:matplotlib.font_manager:findfont: Font family 'IPAexGothic' not found.\n",
            "WARNING:matplotlib.font_manager:findfont: Font family 'IPAexGothic' not found.\n",
            "WARNING:matplotlib.font_manager:findfont: Font family 'IPAexGothic' not found.\n",
            "WARNING:matplotlib.font_manager:findfont: Font family 'IPAexGothic' not found.\n",
            "WARNING:matplotlib.font_manager:findfont: Font family 'IPAexGothic' not found.\n",
            "WARNING:matplotlib.font_manager:findfont: Font family 'IPAexGothic' not found.\n",
            "WARNING:matplotlib.font_manager:findfont: Font family 'IPAexGothic' not found.\n",
            "WARNING:matplotlib.font_manager:findfont: Font family 'IPAexGothic' not found.\n",
            "WARNING:matplotlib.font_manager:findfont: Font family 'IPAexGothic' not found.\n",
            "WARNING:matplotlib.font_manager:findfont: Font family 'IPAexGothic' not found.\n",
            "WARNING:matplotlib.font_manager:findfont: Font family 'IPAexGothic' not found.\n",
            "WARNING:matplotlib.font_manager:findfont: Font family 'IPAexGothic' not found.\n",
            "WARNING:matplotlib.font_manager:findfont: Font family 'IPAexGothic' not found.\n",
            "WARNING:matplotlib.font_manager:findfont: Font family 'IPAexGothic' not found.\n",
            "WARNING:matplotlib.font_manager:findfont: Font family 'IPAexGothic' not found.\n",
            "WARNING:matplotlib.font_manager:findfont: Font family 'IPAexGothic' not found.\n",
            "WARNING:matplotlib.font_manager:findfont: Font family 'IPAexGothic' not found.\n",
            "WARNING:matplotlib.font_manager:findfont: Font family 'IPAexGothic' not found.\n",
            "WARNING:matplotlib.font_manager:findfont: Font family 'IPAexGothic' not found.\n",
            "WARNING:matplotlib.font_manager:findfont: Font family 'IPAexGothic' not found.\n",
            "WARNING:matplotlib.font_manager:findfont: Font family 'IPAexGothic' not found.\n",
            "WARNING:matplotlib.font_manager:findfont: Font family 'IPAexGothic' not found.\n",
            "WARNING:matplotlib.font_manager:findfont: Font family 'IPAexGothic' not found.\n",
            "WARNING:matplotlib.font_manager:findfont: Font family 'IPAexGothic' not found.\n",
            "WARNING:matplotlib.font_manager:findfont: Font family 'IPAexGothic' not found.\n",
            "WARNING:matplotlib.font_manager:findfont: Font family 'IPAexGothic' not found.\n",
            "WARNING:matplotlib.font_manager:findfont: Font family 'IPAexGothic' not found.\n",
            "WARNING:matplotlib.font_manager:findfont: Font family 'IPAexGothic' not found.\n",
            "WARNING:matplotlib.font_manager:findfont: Font family 'IPAexGothic' not found.\n",
            "WARNING:matplotlib.font_manager:findfont: Font family 'IPAexGothic' not found.\n",
            "WARNING:matplotlib.font_manager:findfont: Font family 'IPAexGothic' not found.\n",
            "WARNING:matplotlib.font_manager:findfont: Font family 'IPAexGothic' not found.\n",
            "WARNING:matplotlib.font_manager:findfont: Font family 'IPAexGothic' not found.\n",
            "WARNING:matplotlib.font_manager:findfont: Font family 'IPAexGothic' not found.\n",
            "WARNING:matplotlib.font_manager:findfont: Font family 'IPAexGothic' not found.\n",
            "WARNING:matplotlib.font_manager:findfont: Font family 'IPAexGothic' not found.\n",
            "WARNING:matplotlib.font_manager:findfont: Font family 'IPAexGothic' not found.\n",
            "WARNING:matplotlib.font_manager:findfont: Font family 'IPAexGothic' not found.\n",
            "WARNING:matplotlib.font_manager:findfont: Font family 'IPAexGothic' not found.\n",
            "WARNING:matplotlib.font_manager:findfont: Font family 'IPAexGothic' not found.\n",
            "WARNING:matplotlib.font_manager:findfont: Font family 'IPAexGothic' not found.\n",
            "WARNING:matplotlib.font_manager:findfont: Font family 'IPAexGothic' not found.\n",
            "WARNING:matplotlib.font_manager:findfont: Font family 'IPAexGothic' not found.\n",
            "WARNING:matplotlib.font_manager:findfont: Font family 'IPAexGothic' not found.\n",
            "WARNING:matplotlib.font_manager:findfont: Font family 'IPAexGothic' not found.\n",
            "WARNING:matplotlib.font_manager:findfont: Font family 'IPAexGothic' not found.\n",
            "WARNING:matplotlib.font_manager:findfont: Font family 'IPAexGothic' not found.\n",
            "WARNING:matplotlib.font_manager:findfont: Font family 'IPAexGothic' not found.\n",
            "WARNING:matplotlib.font_manager:findfont: Font family 'IPAexGothic' not found.\n",
            "WARNING:matplotlib.font_manager:findfont: Font family 'IPAexGothic' not found.\n"
          ]
        },
        {
          "output_type": "display_data",
          "data": {
            "text/plain": [
              "<Figure size 640x480 with 1 Axes>"
            ],
            "image/png": "[encoded data removed]"
          },
          "metadata": {}
        }
      ]
    },
    {
      "cell_type": "code",
      "source": [
        "\n",
        "\n",
        "# 外れ値を除外したデータを作成\n",
        "no = df2[(df2['SNS2'] > 1000) & (df2['sales'] <= 8000)].index\n",
        "\n",
        "#外れ値を削除\n",
        "df3 = df2.drop(no,axis=0)\n",
        "\n",
        "df3.shape"
      ],
      "metadata": {
        "colab": {
          "base_uri": "https://localhost:8080/"
        },
        "id": "23K9symMBaVj",
        "outputId": "ff0e3d2f-4fc2-48b2-d1a7-ade46361d64a"
      },
      "execution_count": 24,
      "outputs": [
        {
          "output_type": "execute_result",
          "data": {
            "text/plain": [
              "(99, 6)"
            ]
          },
          "metadata": {},
          "execution_count": 24
        }
      ]
    },
    {
      "cell_type": "code",
      "source": [
        "X = df3.loc[ : , 'SNS1':'original'] # 特徴量の取り出し\n",
        "y = df3['sales'] # 正解ラベルの取り出し"
      ],
      "metadata": {
        "id": "KsYWW_lyYYN8"
      },
      "execution_count": 25,
      "outputs": []
    },
    {
      "cell_type": "code",
      "source": [
        "# 訓練データとテストデータの分割\n",
        "X_train, X_test, y_train, y_test = train_test_split(X, y, test_size=0.2, random_state=39)\n"
      ],
      "metadata": {
        "id": "OHMg8FXIcPGa"
      },
      "execution_count": 26,
      "outputs": []
    },
    {
      "cell_type": "code",
      "source": [],
      "metadata": {
        "id": "aVFEEp3UcWJK"
      },
      "execution_count": null,
      "outputs": []
    }
  ]
}