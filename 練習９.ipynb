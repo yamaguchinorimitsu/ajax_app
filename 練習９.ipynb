{
  "nbformat": 4,
  "nbformat_minor": 0,
  "metadata": {
    "colab": {
      "provenance": [],
      "authorship_tag": "ABX9TyNdO8fMS/XebkLDGXv1dCI9",
      "include_colab_link": true
    },
    "kernelspec": {
      "name": "python3",
      "display_name": "Python 3"
    },
    "language_info": {
      "name": "python"
    }
  },
  "cells": [
    {
      "cell_type": "markdown",
      "metadata": {
        "id": "view-in-github",
        "colab_type": "text"
      },
      "source": [
        "<a href=\"https://colab.research.google.com/github/yamaguchinorimitsu/ajax_app/blob/master/%E7%B7%B4%E7%BF%92%EF%BC%99.ipynb\" target=\"_parent\"><img src=\"https://colab.research.google.com/assets/colab-badge.svg\" alt=\"Open In Colab\"/></a>"
      ]
    },
    {
      "cell_type": "code",
      "execution_count": 1,
      "metadata": {
        "id": "q4xWWGBxFe7r"
      },
      "outputs": [],
      "source": [
        "import pandas as pd\n",
        "from sklearn.model_selection import train_test_split\n",
        "from sklearn.ensemble import RandomForestRegressor\n",
        "from sklearn.linear_model import LinearRegression\n",
        "from sklearn.ensemble import RandomForestClassifier\n",
        "from sklearn.linear_model import LogisticRegression\n",
        "from sklearn.metrics import mean_squared_error, accuracy_score\n",
        "import numpy as np\n",
        "\n",
        "# CSVファイルを読み込み\n",
        "df = pd.read_csv('/content/cinema.csv')\n"
      ]
    },
    {
      "cell_type": "code",
      "source": [
        "\n",
        "# 欠損値を平均値で補完\n",
        "df = df.fillna(df.mean())\n",
        "\n",
        "X = df.loc[:,'SNS1':'original']\n",
        "y = df['sales']\n",
        "\n",
        "from sklearn.model_selection import KFold, cross_validate\n",
        "kfold = KFold(n_splits=3, shuffle=True, random_state=0)\n",
        "model = LinearRegression()\n",
        "\n",
        "scores = cross_validate(model, X, y, cv=kfold, scoring='r2')\n"
      ],
      "metadata": {
        "id": "B95PM-0bRpOw"
      },
      "execution_count": 10,
      "outputs": []
    },
    {
      "cell_type": "code",
      "source": [
        "print(\"Test scores:\", scores['test_score'])\n",
        "print(\"Mean score:\", np.mean(scores['test_score']))"
      ],
      "metadata": {
        "colab": {
          "base_uri": "https://localhost:8080/"
        },
        "id": "mFep3wBsSOj8",
        "outputId": "1d96fbd9-eed2-435c-b8f4-c297852399d5"
      },
      "execution_count": 11,
      "outputs": [
        {
          "output_type": "stream",
          "name": "stdout",
          "text": [
            "Test scores: [0.72465051 0.71740834 0.75975591]\n",
            "Mean score: 0.7339382541774343\n"
          ]
        }
      ]
    },
    {
      "cell_type": "code",
      "source": [
        "# 各フォールドのスコア\n",
        "test_scores = scores['test_score']\n",
        "# 平均スコア\n",
        "mean_score = np.mean(test_scores)\n",
        "\n",
        "print(mean_score)\n"
      ],
      "metadata": {
        "colab": {
          "base_uri": "https://localhost:8080/"
        },
        "id": "U8CYRcckS-Fx",
        "outputId": "d9367b9d-9e83-4912-db10-6947af755d2f"
      },
      "execution_count": 9,
      "outputs": [
        {
          "output_type": "stream",
          "name": "stdout",
          "text": [
            "0.7339382541774343\n"
          ]
        }
      ]
    },
    {
      "cell_type": "code",
      "source": [
        "\n",
        "for train_index, test_index in kfold.split(X):\n",
        "    print(\"Train Index:\", train_index)\n",
        "    print(\"Test Index:\", test_index)\n",
        "    print(\"\")"
      ],
      "metadata": {
        "colab": {
          "base_uri": "https://localhost:8080/"
        },
        "id": "4Ysnk03wSnS8",
        "outputId": "fee54020-2263-41bd-8a47-593c7aff22c5"
      },
      "execution_count": 6,
      "outputs": [
        {
          "output_type": "stream",
          "name": "stdout",
          "text": [
            "Train Index: [ 0  1  4  5  9 10 11 12 14 15 17 18 19 20 21 23 25 27 28 29 31 32 34 35\n",
            " 36 37 38 39 40 41 42 44 46 47 49 50 51 52 56 57 58 59 61 63 64 65 66 67\n",
            " 69 70 72 74 77 79 81 83 84 85 87 88 89 91 94 96 97 98]\n",
            "Test Index: [ 2  3  6  7  8 13 16 22 24 26 30 33 43 45 48 53 54 55 60 62 68 71 73 75\n",
            " 76 78 80 82 86 90 92 93 95 99]\n",
            "\n",
            "Train Index: [ 2  3  6  7  8  9 12 13 14 16 19 20 21 22 24 25 26 29 30 33 36 37 39 43\n",
            " 44 45 46 47 48 49 53 54 55 58 60 62 64 65 67 68 69 70 71 72 73 75 76 77\n",
            " 78 80 81 82 83 84 86 87 88 89 90 92 93 94 95 96 97 98 99]\n",
            "Test Index: [ 0  1  4  5 10 11 15 17 18 23 27 28 31 32 34 35 38 40 41 42 50 51 52 56\n",
            " 57 59 61 63 66 74 79 85 91]\n",
            "\n",
            "Train Index: [ 0  1  2  3  4  5  6  7  8 10 11 13 15 16 17 18 22 23 24 26 27 28 30 31\n",
            " 32 33 34 35 38 40 41 42 43 45 48 50 51 52 53 54 55 56 57 59 60 61 62 63\n",
            " 66 68 71 73 74 75 76 78 79 80 82 85 86 90 91 92 93 95 99]\n",
            "Test Index: [ 9 12 14 19 20 21 25 29 36 37 39 44 46 47 49 58 64 65 67 69 70 72 77 81\n",
            " 83 84 87 88 89 94 96 97 98]\n",
            "\n"
          ]
        }
      ]
    }
  ]
}