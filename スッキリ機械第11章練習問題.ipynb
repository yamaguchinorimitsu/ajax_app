{
  "nbformat": 4,
  "nbformat_minor": 0,
  "metadata": {
    "colab": {
      "provenance": [],
      "authorship_tag": "ABX9TyNR4b8fc9wQjSVdYF5xP55A",
      "include_colab_link": true
    },
    "kernelspec": {
      "name": "python3",
      "display_name": "Python 3"
    },
    "language_info": {
      "name": "python"
    }
  },
  "cells": [
    {
      "cell_type": "markdown",
      "metadata": {
        "id": "view-in-github",
        "colab_type": "text"
      },
      "source": [
        "<a href=\"https://colab.research.google.com/github/yamaguchinorimitsu/ajax_app/blob/master/%E3%82%B9%E3%83%83%E3%82%AD%E3%83%AA%E6%A9%9F%E6%A2%B0%E7%AC%AC11%E7%AB%A0%E7%B7%B4%E7%BF%92%E5%95%8F%E9%A1%8C.ipynb\" target=\"_parent\"><img src=\"https://colab.research.google.com/assets/colab-badge.svg\" alt=\"Open In Colab\"/></a>"
      ]
    },
    {
      "cell_type": "code",
      "execution_count": 1,
      "metadata": {
        "id": "iKxrU-6bb6g6"
      },
      "outputs": [],
      "source": [
        "import pandas as pd\n",
        "from sklearn import tree\n",
        "from sklearn.model_selection import train_test_split\n",
        "%matplotlib inline"
      ]
    },
    {
      "cell_type": "code",
      "source": [
        "df = pd.read_csv('/content/Bank.csv')\n",
        "print(df.shape)\n",
        "df.head()"
      ],
      "metadata": {
        "colab": {
          "base_uri": "https://localhost:8080/",
          "height": 224
        },
        "id": "AkDbrPCbcRG8",
        "outputId": "b1f8cf7b-e433-446b-d5f6-272034e8bb7e"
      },
      "execution_count": 2,
      "outputs": [
        {
          "output_type": "stream",
          "name": "stdout",
          "text": [
            "(27128, 16)\n"
          ]
        },
        {
          "output_type": "execute_result",
          "data": {
            "text/plain": [
              "   id  age           job  marital  education default  amount housing loan  \\\n",
              "0   1   39   blue-collar  married  secondary      no  1756.0     yes   no   \n",
              "1   2   51  entrepreneur  married    primary      no  1443.0      no   no   \n",
              "2   3   36    management   single   tertiary      no   436.0      no   no   \n",
              "3   4   63       retired  married  secondary      no   474.0      no   no   \n",
              "4   5   31    management   single   tertiary      no   354.0      no   no   \n",
              "\n",
              "    contact  day month    duration  campaign  previous  y  \n",
              "0  cellular    3   apr  370.055237         1         0  1  \n",
              "1  cellular   18   feb  233.998933        10         0  1  \n",
              "2  cellular   13   apr         NaN         1         2  0  \n",
              "3  cellular   25   jan  252.525808         1         0  0  \n",
              "4  cellular   30   apr         NaN         1         2  0  "
            ],
            "text/html": [
              "\n",
              "  <div id=\"df-ed33fac4-66b7-432e-adc1-650a4526a0f4\">\n",
              "    <div class=\"colab-df-container\">\n",
              "      <div>\n",
              "<style scoped>\n",
              "    .dataframe tbody tr th:only-of-type {\n",
              "        vertical-align: middle;\n",
              "    }\n",
              "\n",
              "    .dataframe tbody tr th {\n",
              "        vertical-align: top;\n",
              "    }\n",
              "\n",
              "    .dataframe thead th {\n",
              "        text-align: right;\n",
              "    }\n",
              "</style>\n",
              "<table border=\"1\" class=\"dataframe\">\n",
              "  <thead>\n",
              "    <tr style=\"text-align: right;\">\n",
              "      <th></th>\n",
              "      <th>id</th>\n",
              "      <th>age</th>\n",
              "      <th>job</th>\n",
              "      <th>marital</th>\n",
              "      <th>education</th>\n",
              "      <th>default</th>\n",
              "      <th>amount</th>\n",
              "      <th>housing</th>\n",
              "      <th>loan</th>\n",
              "      <th>contact</th>\n",
              "      <th>day</th>\n",
              "      <th>month</th>\n",
              "      <th>duration</th>\n",
              "      <th>campaign</th>\n",
              "      <th>previous</th>\n",
              "      <th>y</th>\n",
              "    </tr>\n",
              "  </thead>\n",
              "  <tbody>\n",
              "    <tr>\n",
              "      <th>0</th>\n",
              "      <td>1</td>\n",
              "      <td>39</td>\n",
              "      <td>blue-collar</td>\n",
              "      <td>married</td>\n",
              "      <td>secondary</td>\n",
              "      <td>no</td>\n",
              "      <td>1756.0</td>\n",
              "      <td>yes</td>\n",
              "      <td>no</td>\n",
              "      <td>cellular</td>\n",
              "      <td>3</td>\n",
              "      <td>apr</td>\n",
              "      <td>370.055237</td>\n",
              "      <td>1</td>\n",
              "      <td>0</td>\n",
              "      <td>1</td>\n",
              "    </tr>\n",
              "    <tr>\n",
              "      <th>1</th>\n",
              "      <td>2</td>\n",
              "      <td>51</td>\n",
              "      <td>entrepreneur</td>\n",
              "      <td>married</td>\n",
              "      <td>primary</td>\n",
              "      <td>no</td>\n",
              "      <td>1443.0</td>\n",
              "      <td>no</td>\n",
              "      <td>no</td>\n",
              "      <td>cellular</td>\n",
              "      <td>18</td>\n",
              "      <td>feb</td>\n",
              "      <td>233.998933</td>\n",
              "      <td>10</td>\n",
              "      <td>0</td>\n",
              "      <td>1</td>\n",
              "    </tr>\n",
              "    <tr>\n",
              "      <th>2</th>\n",
              "      <td>3</td>\n",
              "      <td>36</td>\n",
              "      <td>management</td>\n",
              "      <td>single</td>\n",
              "      <td>tertiary</td>\n",
              "      <td>no</td>\n",
              "      <td>436.0</td>\n",
              "      <td>no</td>\n",
              "      <td>no</td>\n",
              "      <td>cellular</td>\n",
              "      <td>13</td>\n",
              "      <td>apr</td>\n",
              "      <td>NaN</td>\n",
              "      <td>1</td>\n",
              "      <td>2</td>\n",
              "      <td>0</td>\n",
              "    </tr>\n",
              "    <tr>\n",
              "      <th>3</th>\n",
              "      <td>4</td>\n",
              "      <td>63</td>\n",
              "      <td>retired</td>\n",
              "      <td>married</td>\n",
              "      <td>secondary</td>\n",
              "      <td>no</td>\n",
              "      <td>474.0</td>\n",
              "      <td>no</td>\n",
              "      <td>no</td>\n",
              "      <td>cellular</td>\n",
              "      <td>25</td>\n",
              "      <td>jan</td>\n",
              "      <td>252.525808</td>\n",
              "      <td>1</td>\n",
              "      <td>0</td>\n",
              "      <td>0</td>\n",
              "    </tr>\n",
              "    <tr>\n",
              "      <th>4</th>\n",
              "      <td>5</td>\n",
              "      <td>31</td>\n",
              "      <td>management</td>\n",
              "      <td>single</td>\n",
              "      <td>tertiary</td>\n",
              "      <td>no</td>\n",
              "      <td>354.0</td>\n",
              "      <td>no</td>\n",
              "      <td>no</td>\n",
              "      <td>cellular</td>\n",
              "      <td>30</td>\n",
              "      <td>apr</td>\n",
              "      <td>NaN</td>\n",
              "      <td>1</td>\n",
              "      <td>2</td>\n",
              "      <td>0</td>\n",
              "    </tr>\n",
              "  </tbody>\n",
              "</table>\n",
              "</div>\n",
              "      <button class=\"colab-df-convert\" onclick=\"convertToInteractive('df-ed33fac4-66b7-432e-adc1-650a4526a0f4')\"\n",
              "              title=\"Convert this dataframe to an interactive table.\"\n",
              "              style=\"display:none;\">\n",
              "        \n",
              "  <svg xmlns=\"http://www.w3.org/2000/svg\" height=\"24px\"viewBox=\"0 0 24 24\"\n",
              "       width=\"24px\">\n",
              "    <path d=\"M0 0h24v24H0V0z\" fill=\"none\"/>\n",
              "    <path d=\"M18.56 5.44l.94 2.06.94-2.06 2.06-.94-2.06-.94-.94-2.06-.94 2.06-2.06.94zm-11 1L8.5 8.5l.94-2.06 2.06-.94-2.06-.94L8.5 2.5l-.94 2.06-2.06.94zm10 10l.94 2.06.94-2.06 2.06-.94-2.06-.94-.94-2.06-.94 2.06-2.06.94z\"/><path d=\"M17.41 7.96l-1.37-1.37c-.4-.4-.92-.59-1.43-.59-.52 0-1.04.2-1.43.59L10.3 9.45l-7.72 7.72c-.78.78-.78 2.05 0 2.83L4 21.41c.39.39.9.59 1.41.59.51 0 1.02-.2 1.41-.59l7.78-7.78 2.81-2.81c.8-.78.8-2.07 0-2.86zM5.41 20L4 18.59l7.72-7.72 1.47 1.35L5.41 20z\"/>\n",
              "  </svg>\n",
              "      </button>\n",
              "      \n",
              "  <style>\n",
              "    .colab-df-container {\n",
              "      display:flex;\n",
              "      flex-wrap:wrap;\n",
              "      gap: 12px;\n",
              "    }\n",
              "\n",
              "    .colab-df-convert {\n",
              "      background-color: #E8F0FE;\n",
              "      border: none;\n",
              "      border-radius: 50%;\n",
              "      cursor: pointer;\n",
              "      display: none;\n",
              "      fill: #1967D2;\n",
              "      height: 32px;\n",
              "      padding: 0 0 0 0;\n",
              "      width: 32px;\n",
              "    }\n",
              "\n",
              "    .colab-df-convert:hover {\n",
              "      background-color: #E2EBFA;\n",
              "      box-shadow: 0px 1px 2px rgba(60, 64, 67, 0.3), 0px 1px 3px 1px rgba(60, 64, 67, 0.15);\n",
              "      fill: #174EA6;\n",
              "    }\n",
              "\n",
              "    [theme=dark] .colab-df-convert {\n",
              "      background-color: #3B4455;\n",
              "      fill: #D2E3FC;\n",
              "    }\n",
              "\n",
              "    [theme=dark] .colab-df-convert:hover {\n",
              "      background-color: #434B5C;\n",
              "      box-shadow: 0px 1px 3px 1px rgba(0, 0, 0, 0.15);\n",
              "      filter: drop-shadow(0px 1px 2px rgba(0, 0, 0, 0.3));\n",
              "      fill: #FFFFFF;\n",
              "    }\n",
              "  </style>\n",
              "\n",
              "      <script>\n",
              "        const buttonEl =\n",
              "          document.querySelector('#df-ed33fac4-66b7-432e-adc1-650a4526a0f4 button.colab-df-convert');\n",
              "        buttonEl.style.display =\n",
              "          google.colab.kernel.accessAllowed ? 'block' : 'none';\n",
              "\n",
              "        async function convertToInteractive(key) {\n",
              "          const element = document.querySelector('#df-ed33fac4-66b7-432e-adc1-650a4526a0f4');\n",
              "          const dataTable =\n",
              "            await google.colab.kernel.invokeFunction('convertToInteractive',\n",
              "                                                     [key], {});\n",
              "          if (!dataTable) return;\n",
              "\n",
              "          const docLinkHtml = 'Like what you see? Visit the ' +\n",
              "            '<a target=\"_blank\" href=https://colab.research.google.com/notebooks/data_table.ipynb>data table notebook</a>'\n",
              "            + ' to learn more about interactive tables.';\n",
              "          element.innerHTML = '';\n",
              "          dataTable['output_type'] = 'display_data';\n",
              "          await google.colab.output.renderOutput(dataTable, element);\n",
              "          const docLink = document.createElement('div');\n",
              "          docLink.innerHTML = docLinkHtml;\n",
              "          element.appendChild(docLink);\n",
              "        }\n",
              "      </script>\n",
              "    </div>\n",
              "  </div>\n",
              "  "
            ]
          },
          "metadata": {},
          "execution_count": 2
        }
      ]
    },
    {
      "cell_type": "code",
      "source": [
        "# まず、ダミー変数化をしたいが、文字列の列が複数あるので抜き出す。\n",
        "str_col_name=['job','default','marital','education','housing','loan','contact','month']\n",
        "str_df = df[str_col_name]\n",
        "#複数列を一気にダミー変数化\n",
        "str_df2=pd.get_dummies(str_df,drop_first=True)\n",
        "\n",
        "num_df = df.drop(str_col_name,axis=1)#数値列を抜き出す\n",
        "df2 = pd.concat([num_df,str_df2,str_df],axis=1)#結合(今後の集計の利便性も考慮してstr_dfも結合しておく)"
      ],
      "metadata": {
        "id": "bolmpF2LcjnC"
      },
      "execution_count": 3,
      "outputs": []
    },
    {
      "cell_type": "code",
      "source": [
        "#訓練&検証データとテストデータに分割\n",
        "train_val,test = train_test_split(df2,test_size=0.1,random_state=9)\n",
        "train_val.head()"
      ],
      "metadata": {
        "id": "FGT6YNchckiq"
      },
      "execution_count": null,
      "outputs": []
    },
    {
      "cell_type": "code",
      "source": [
        "#特徴量の当たりがついた\n",
        "#しかし、そもそもこの線形回帰は外れ値の影響を強く受けるので調べる。\n",
        "from sklearn.covariance import MinCovDet\n",
        "num_df=train_val.drop(str_col_name,axis=1)\n",
        "num_df=num_df.drop('id',axis=1)\n",
        "num_df2=num_df.dropna()\n",
        "mcd2 =MinCovDet(random_state=0,support_fraction=0.7)\n",
        "mcd2.fit(num_df2)"
      ],
      "metadata": {
        "colab": {
          "base_uri": "https://localhost:8080/",
          "height": 75
        },
        "id": "iVUnLNA-c9ZW",
        "outputId": "106b93e5-651a-4a57-90c9-ab85fd8fac6f"
      },
      "execution_count": 5,
      "outputs": [
        {
          "output_type": "execute_result",
          "data": {
            "text/plain": [
              "MinCovDet(random_state=0, support_fraction=0.7)"
            ],
            "text/html": [
              "<style>#sk-container-id-1 {color: black;background-color: white;}#sk-container-id-1 pre{padding: 0;}#sk-container-id-1 div.sk-toggleable {background-color: white;}#sk-container-id-1 label.sk-toggleable__label {cursor: pointer;display: block;width: 100%;margin-bottom: 0;padding: 0.3em;box-sizing: border-box;text-align: center;}#sk-container-id-1 label.sk-toggleable__label-arrow:before {content: \"▸\";float: left;margin-right: 0.25em;color: #696969;}#sk-container-id-1 label.sk-toggleable__label-arrow:hover:before {color: black;}#sk-container-id-1 div.sk-estimator:hover label.sk-toggleable__label-arrow:before {color: black;}#sk-container-id-1 div.sk-toggleable__content {max-height: 0;max-width: 0;overflow: hidden;text-align: left;background-color: #f0f8ff;}#sk-container-id-1 div.sk-toggleable__content pre {margin: 0.2em;color: black;border-radius: 0.25em;background-color: #f0f8ff;}#sk-container-id-1 input.sk-toggleable__control:checked~div.sk-toggleable__content {max-height: 200px;max-width: 100%;overflow: auto;}#sk-container-id-1 input.sk-toggleable__control:checked~label.sk-toggleable__label-arrow:before {content: \"▾\";}#sk-container-id-1 div.sk-estimator input.sk-toggleable__control:checked~label.sk-toggleable__label {background-color: #d4ebff;}#sk-container-id-1 div.sk-label input.sk-toggleable__control:checked~label.sk-toggleable__label {background-color: #d4ebff;}#sk-container-id-1 input.sk-hidden--visually {border: 0;clip: rect(1px 1px 1px 1px);clip: rect(1px, 1px, 1px, 1px);height: 1px;margin: -1px;overflow: hidden;padding: 0;position: absolute;width: 1px;}#sk-container-id-1 div.sk-estimator {font-family: monospace;background-color: #f0f8ff;border: 1px dotted black;border-radius: 0.25em;box-sizing: border-box;margin-bottom: 0.5em;}#sk-container-id-1 div.sk-estimator:hover {background-color: #d4ebff;}#sk-container-id-1 div.sk-parallel-item::after {content: \"\";width: 100%;border-bottom: 1px solid gray;flex-grow: 1;}#sk-container-id-1 div.sk-label:hover label.sk-toggleable__label {background-color: #d4ebff;}#sk-container-id-1 div.sk-serial::before {content: \"\";position: absolute;border-left: 1px solid gray;box-sizing: border-box;top: 0;bottom: 0;left: 50%;z-index: 0;}#sk-container-id-1 div.sk-serial {display: flex;flex-direction: column;align-items: center;background-color: white;padding-right: 0.2em;padding-left: 0.2em;position: relative;}#sk-container-id-1 div.sk-item {position: relative;z-index: 1;}#sk-container-id-1 div.sk-parallel {display: flex;align-items: stretch;justify-content: center;background-color: white;position: relative;}#sk-container-id-1 div.sk-item::before, #sk-container-id-1 div.sk-parallel-item::before {content: \"\";position: absolute;border-left: 1px solid gray;box-sizing: border-box;top: 0;bottom: 0;left: 50%;z-index: -1;}#sk-container-id-1 div.sk-parallel-item {display: flex;flex-direction: column;z-index: 1;position: relative;background-color: white;}#sk-container-id-1 div.sk-parallel-item:first-child::after {align-self: flex-end;width: 50%;}#sk-container-id-1 div.sk-parallel-item:last-child::after {align-self: flex-start;width: 50%;}#sk-container-id-1 div.sk-parallel-item:only-child::after {width: 0;}#sk-container-id-1 div.sk-dashed-wrapped {border: 1px dashed gray;margin: 0 0.4em 0.5em 0.4em;box-sizing: border-box;padding-bottom: 0.4em;background-color: white;}#sk-container-id-1 div.sk-label label {font-family: monospace;font-weight: bold;display: inline-block;line-height: 1.2em;}#sk-container-id-1 div.sk-label-container {text-align: center;}#sk-container-id-1 div.sk-container {/* jupyter's `normalize.less` sets `[hidden] { display: none; }` but bootstrap.min.css set `[hidden] { display: none !important; }` so we also need the `!important` here to be able to override the default hidden behavior on the sphinx rendered scikit-learn.org. See: https://github.com/scikit-learn/scikit-learn/issues/21755 */display: inline-block !important;position: relative;}#sk-container-id-1 div.sk-text-repr-fallback {display: none;}</style><div id=\"sk-container-id-1\" class=\"sk-top-container\"><div class=\"sk-text-repr-fallback\"><pre>MinCovDet(random_state=0, support_fraction=0.7)</pre><b>In a Jupyter environment, please rerun this cell to show the HTML representation or trust the notebook. <br />On GitHub, the HTML representation is unable to render, please try loading this page with nbviewer.org.</b></div><div class=\"sk-container\" hidden><div class=\"sk-item\"><div class=\"sk-estimator sk-toggleable\"><input class=\"sk-toggleable__control sk-hidden--visually\" id=\"sk-estimator-id-1\" type=\"checkbox\" checked><label for=\"sk-estimator-id-1\" class=\"sk-toggleable__label sk-toggleable__label-arrow\">MinCovDet</label><div class=\"sk-toggleable__content\"><pre>MinCovDet(random_state=0, support_fraction=0.7)</pre></div></div></div></div></div>"
            ]
          },
          "metadata": {},
          "execution_count": 5
        }
      ]
    },
    {
      "cell_type": "code",
      "source": [
        "dis =mcd2.mahalanobis(num_df2)\n",
        "dis=pd.Series(dis)\n",
        "dis.plot(kind=\"box\")\n"
      ],
      "metadata": {
        "colab": {
          "base_uri": "https://localhost:8080/",
          "height": 429
        },
        "id": "6haJTbAHdnxV",
        "outputId": "f0a6d8a6-0d8a-481c-c640-1ed84816407e"
      },
      "execution_count": 6,
      "outputs": [
        {
          "output_type": "execute_result",
          "data": {
            "text/plain": [
              "<Axes: >"
            ]
          },
          "metadata": {},
          "execution_count": 6
        },
        {
          "output_type": "display_data",
          "data": {
            "text/plain": [
              "<Figure size 640x480 with 1 Axes>"
            ],
            "image/png": "[encoded data removed]"
          },
          "metadata": {}
        }
      ]
    },
    {
      "cell_type": "code",
      "source": [
        "no=dis[dis>300000].index\n",
        "#先頭から2561番目が外れ値となる事が分かったので９章の付録で紹介したilocを利用する\n",
        "no=num_df2.iloc[no[0]:(no[0]+1),:].index\n",
        "train_val2 = train_val.drop(no)"
      ],
      "metadata": {
        "id": "ds6kYsIReRNs"
      },
      "execution_count": 8,
      "outputs": []
    },
    {
      "cell_type": "code",
      "source": [
        "#欠損行を削除\n",
        "not_nan_df = train_val2.dropna()\n",
        "temp_t =not_nan_df[['duration']]\n",
        "temp_x = not_nan_df.drop(str_col_name,axis=1)\n",
        "\n",
        "#durationとyに関係があるという仮定が成り立つならば、適切な推定をするためには,\n",
        "temp_x = temp_x.drop(['y','duration','id'],axis=1)\n",
        "from sklearn.preprocessing import PolynomialFeatures\n",
        "\n",
        "from sklearn.linear_model import Lasso,Ridge\n",
        "\n",
        "a,b,c,d= train_test_split(temp_x,temp_t,random_state=0,test_size=0.2)\n",
        "maxvalue=0\n",
        "v=0\n",
        "#今回はLasso回帰を利用するので、特徴量選択はしない\n",
        "for i in range(1,42):\n",
        "    val = i/20\n",
        "    model_liner = Lasso(random_state=0,alpha=val)\n",
        "    #今回は予測させたいだけなので、標準化はしない\n",
        "    model_liner.fit(a,c)\n",
        "    if maxvalue < model_liner.score(b,d):\n",
        "        v=val\n",
        "        maxvalue = model_liner.score(b,d)\n",
        "print(v,maxvalue)"
      ],
      "metadata": {
        "colab": {
          "base_uri": "https://localhost:8080/"
        },
        "id": "hlvJxPrPeWZI",
        "outputId": "d54a037f-bf91-4e4e-d590-b0af1cb263a9"
      },
      "execution_count": 9,
      "outputs": [
        {
          "output_type": "stream",
          "name": "stdout",
          "text": [
            "0.15 0.7304944115519963\n"
          ]
        }
      ]
    },
    {
      "cell_type": "code",
      "source": [
        "model_liner = Lasso(random_state=0,alpha=v)\n",
        "#今回は予測させたいだけなので、標準化はしない\n",
        "model_liner.fit(a,c)\n",
        "#pd.Series(model_liner)"
      ],
      "metadata": {
        "colab": {
          "base_uri": "https://localhost:8080/",
          "height": 75
        },
        "id": "qL9m5rdWn58T",
        "outputId": "0ad497bd-7b45-49ca-9728-0aa230711c8a"
      },
      "execution_count": 10,
      "outputs": [
        {
          "output_type": "execute_result",
          "data": {
            "text/plain": [
              "Lasso(alpha=0.15, random_state=0)"
            ],
            "text/html": [
              "<style>#sk-container-id-2 {color: black;background-color: white;}#sk-container-id-2 pre{padding: 0;}#sk-container-id-2 div.sk-toggleable {background-color: white;}#sk-container-id-2 label.sk-toggleable__label {cursor: pointer;display: block;width: 100%;margin-bottom: 0;padding: 0.3em;box-sizing: border-box;text-align: center;}#sk-container-id-2 label.sk-toggleable__label-arrow:before {content: \"▸\";float: left;margin-right: 0.25em;color: #696969;}#sk-container-id-2 label.sk-toggleable__label-arrow:hover:before {color: black;}#sk-container-id-2 div.sk-estimator:hover label.sk-toggleable__label-arrow:before {color: black;}#sk-container-id-2 div.sk-toggleable__content {max-height: 0;max-width: 0;overflow: hidden;text-align: left;background-color: #f0f8ff;}#sk-container-id-2 div.sk-toggleable__content pre {margin: 0.2em;color: black;border-radius: 0.25em;background-color: #f0f8ff;}#sk-container-id-2 input.sk-toggleable__control:checked~div.sk-toggleable__content {max-height: 200px;max-width: 100%;overflow: auto;}#sk-container-id-2 input.sk-toggleable__control:checked~label.sk-toggleable__label-arrow:before {content: \"▾\";}#sk-container-id-2 div.sk-estimator input.sk-toggleable__control:checked~label.sk-toggleable__label {background-color: #d4ebff;}#sk-container-id-2 div.sk-label input.sk-toggleable__control:checked~label.sk-toggleable__label {background-color: #d4ebff;}#sk-container-id-2 input.sk-hidden--visually {border: 0;clip: rect(1px 1px 1px 1px);clip: rect(1px, 1px, 1px, 1px);height: 1px;margin: -1px;overflow: hidden;padding: 0;position: absolute;width: 1px;}#sk-container-id-2 div.sk-estimator {font-family: monospace;background-color: #f0f8ff;border: 1px dotted black;border-radius: 0.25em;box-sizing: border-box;margin-bottom: 0.5em;}#sk-container-id-2 div.sk-estimator:hover {background-color: #d4ebff;}#sk-container-id-2 div.sk-parallel-item::after {content: \"\";width: 100%;border-bottom: 1px solid gray;flex-grow: 1;}#sk-container-id-2 div.sk-label:hover label.sk-toggleable__label {background-color: #d4ebff;}#sk-container-id-2 div.sk-serial::before {content: \"\";position: absolute;border-left: 1px solid gray;box-sizing: border-box;top: 0;bottom: 0;left: 50%;z-index: 0;}#sk-container-id-2 div.sk-serial {display: flex;flex-direction: column;align-items: center;background-color: white;padding-right: 0.2em;padding-left: 0.2em;position: relative;}#sk-container-id-2 div.sk-item {position: relative;z-index: 1;}#sk-container-id-2 div.sk-parallel {display: flex;align-items: stretch;justify-content: center;background-color: white;position: relative;}#sk-container-id-2 div.sk-item::before, #sk-container-id-2 div.sk-parallel-item::before {content: \"\";position: absolute;border-left: 1px solid gray;box-sizing: border-box;top: 0;bottom: 0;left: 50%;z-index: -1;}#sk-container-id-2 div.sk-parallel-item {display: flex;flex-direction: column;z-index: 1;position: relative;background-color: white;}#sk-container-id-2 div.sk-parallel-item:first-child::after {align-self: flex-end;width: 50%;}#sk-container-id-2 div.sk-parallel-item:last-child::after {align-self: flex-start;width: 50%;}#sk-container-id-2 div.sk-parallel-item:only-child::after {width: 0;}#sk-container-id-2 div.sk-dashed-wrapped {border: 1px dashed gray;margin: 0 0.4em 0.5em 0.4em;box-sizing: border-box;padding-bottom: 0.4em;background-color: white;}#sk-container-id-2 div.sk-label label {font-family: monospace;font-weight: bold;display: inline-block;line-height: 1.2em;}#sk-container-id-2 div.sk-label-container {text-align: center;}#sk-container-id-2 div.sk-container {/* jupyter's `normalize.less` sets `[hidden] { display: none; }` but bootstrap.min.css set `[hidden] { display: none !important; }` so we also need the `!important` here to be able to override the default hidden behavior on the sphinx rendered scikit-learn.org. See: https://github.com/scikit-learn/scikit-learn/issues/21755 */display: inline-block !important;position: relative;}#sk-container-id-2 div.sk-text-repr-fallback {display: none;}</style><div id=\"sk-container-id-2\" class=\"sk-top-container\"><div class=\"sk-text-repr-fallback\"><pre>Lasso(alpha=0.15, random_state=0)</pre><b>In a Jupyter environment, please rerun this cell to show the HTML representation or trust the notebook. <br />On GitHub, the HTML representation is unable to render, please try loading this page with nbviewer.org.</b></div><div class=\"sk-container\" hidden><div class=\"sk-item\"><div class=\"sk-estimator sk-toggleable\"><input class=\"sk-toggleable__control sk-hidden--visually\" id=\"sk-estimator-id-2\" type=\"checkbox\" checked><label for=\"sk-estimator-id-2\" class=\"sk-toggleable__label sk-toggleable__label-arrow\">Lasso</label><div class=\"sk-toggleable__content\"><pre>Lasso(alpha=0.15, random_state=0)</pre></div></div></div></div></div>"
            ]
          },
          "metadata": {},
          "execution_count": 10
        }
      ]
    },
    {
      "cell_type": "code",
      "source": [
        "# 考え方をここで変える。durationとyに関係が強いという仮定が正しいならば、durationを推定するのに\n",
        "#yを利用するのは合理的ではなかろうか？ただテストデータでは、yの値が本当に未知という状況で検証するので\n",
        "#テストデータでもdurationが欠損している場合は上記model_linerを利用する。\n",
        "#欠損行を削除\n",
        "not_nan_df = train_val2.dropna()\n",
        "temp_t =not_nan_df[['duration']]\n",
        "temp_x = not_nan_df.drop(str_col_name,axis=1)\n",
        "#yを消さない\n",
        "temp_x = temp_x.drop(['duration','id'],axis=1)\n",
        "from sklearn.preprocessing import PolynomialFeatures\n",
        "\n",
        "from sklearn.linear_model import Lasso,Ridge\n",
        "\n",
        "a,b,c,d= train_test_split(temp_x,temp_t,random_state=0,test_size=0.2)\n",
        "maxvalue=0\n",
        "v=0\n",
        "for i in range(1,42):\n",
        "    val = i/20\n",
        "    model_liner2 = Lasso(random_state=0,alpha=val)\n",
        "    #今回は予測させたいだけなので、標準化はしない\n",
        "    model_liner2.fit(a,c)\n",
        "    if maxvalue < model_liner2.score(b,d):\n",
        "        v=val\n",
        "        maxvalue = model_liner2.score(b,d)\n",
        "print(v,maxvalue)"
      ],
      "metadata": {
        "colab": {
          "base_uri": "https://localhost:8080/"
        },
        "id": "czjIhCwUoXMU",
        "outputId": "59ada6bc-3ae2-4734-d26d-12ffac8d8523"
      },
      "execution_count": 11,
      "outputs": [
        {
          "output_type": "stream",
          "name": "stdout",
          "text": [
            "0.1 0.8192780104182655\n"
          ]
        }
      ]
    },
    {
      "cell_type": "code",
      "source": [
        "#結果\n",
        "pd.Series(model_liner2.coef_,index=temp_x.columns)"
      ],
      "metadata": {
        "colab": {
          "base_uri": "https://localhost:8080/"
        },
        "id": "QhKynd4dpvrh",
        "outputId": "e80b8748-3627-4275-b8f8-46ba9e703e0a"
      },
      "execution_count": 12,
      "outputs": [
        {
          "output_type": "execute_result",
          "data": {
            "text/plain": [
              "age                            3.685596\n",
              "amount                        -0.000010\n",
              "day                           -0.000000\n",
              "campaign                      -0.000000\n",
              "previous                       2.951859\n",
              "y                             41.674580\n",
              "job_blue-collar                0.000000\n",
              "job_entrepreneur              -0.000000\n",
              "job_housemaid                 -0.000000\n",
              "job_management                -0.000000\n",
              "job_retired                   -0.000000\n",
              "job_self-employed              0.000000\n",
              "job_services                   0.000000\n",
              "job_student                   -0.000000\n",
              "job_technician                 0.000000\n",
              "job_unemployed                -0.000000\n",
              "job_unknown                   -0.000000\n",
              "default_yes                    0.000000\n",
              "marital_married                0.000000\n",
              "marital_single                -0.000000\n",
              "education_secondary            0.000000\n",
              "education_tertiary            -0.000000\n",
              "education_unknown             -0.000000\n",
              "housing_yes                  127.082018\n",
              "loan_yes                      82.595567\n",
              "contact_sending _document      0.000000\n",
              "contact_telephone             -0.000000\n",
              "month_aug                     -0.000000\n",
              "month_dec                     -0.000000\n",
              "month_feb                     -0.000000\n",
              "month_jan                      0.000000\n",
              "month_jul                      0.000000\n",
              "month_jun                     -0.000000\n",
              "month_mar                     -0.000000\n",
              "month_may                      0.000000\n",
              "month_nov                     -0.000000\n",
              "month_oct                     -0.000000\n",
              "month_sep                     -0.000000\n",
              "dtype: float64"
            ]
          },
          "metadata": {},
          "execution_count": 12
        }
      ]
    },
    {
      "cell_type": "code",
      "source": [
        "train_val3 = train_val.copy()\n",
        "is_null=train_val3['duration'].isnull()\n",
        "#temp_x = tain_val3.drop(str_col_name,axis=1)\n",
        "#修正\n",
        "temp_x = train_val3.drop(str_col_name,axis=1)\n",
        "\n",
        "temp_x = temp_x.drop(['duration','id'],axis=1)\n",
        "temp_x = temp_x[is_null]\n",
        "#non_x=train_val2.loc[is_null,['housing_yes','loan_yes','age','marital_single','job_student']]\n",
        "pred_d = model_liner2.predict(temp_x)\n",
        "train_val3.loc[is_null,'duration']=pred_d"
      ],
      "metadata": {
        "id": "e15yrNcZqEX2"
      },
      "execution_count": 13,
      "outputs": []
    },
    {
      "cell_type": "code",
      "source": [
        "#ヒストグラムの確認\n",
        "train_val3.loc[train_val3['y']==0,\"duration\"].plot(kind=\"hist\")\n",
        "train_val3.loc[train_val3['y']==1,\"duration\"].plot(kind=\"hist\",alpha=0.4)\n",
        "\n",
        "#y=1の方が、durationが大きい傾向がやっぱりありそう\n",
        "train_val3.shape"
      ],
      "metadata": {
        "colab": {
          "base_uri": "https://localhost:8080/",
          "height": 448
        },
        "id": "kHUayNzvrL4T",
        "outputId": "544726c4-ec0e-42c5-bdb7-b7e566daee6a"
      },
      "execution_count": 14,
      "outputs": [
        {
          "output_type": "execute_result",
          "data": {
            "text/plain": [
              "(24415, 48)"
            ]
          },
          "metadata": {},
          "execution_count": 14
        },
        {
          "output_type": "display_data",
          "data": {
            "text/plain": [
              "<Figure size 640x480 with 1 Axes>"
            ],
            "image/png": "[encoded data removed]"
          },
          "metadata": {}
        }
      ]
    },
    {
      "cell_type": "code",
      "source": [
        "train_val3[\"duration\"].describe()"
      ],
      "metadata": {
        "colab": {
          "base_uri": "https://localhost:8080/"
        },
        "id": "iC1iA8-rrz7t",
        "outputId": "7c59efe4-95c6-4608-fbdc-07848519c9e4"
      },
      "execution_count": 15,
      "outputs": [
        {
          "output_type": "execute_result",
          "data": {
            "text/plain": [
              "count    24415.000000\n",
              "mean       297.012163\n",
              "std         92.504680\n",
              "min         19.038719\n",
              "25%        227.001265\n",
              "50%        292.726974\n",
              "75%        362.290315\n",
              "max       1435.488040\n",
              "Name: duration, dtype: float64"
            ]
          },
          "metadata": {},
          "execution_count": 15
        }
      ]
    },
    {
      "cell_type": "code",
      "source": [
        "#まず、さくっと学習できるようなlearn関数を定義する。\n",
        "def learn(x,t,i):\n",
        "    x_train,x_val,y_train,y_val = train_test_split(x,t,test_size=0.2,random_state=13)\n",
        "\n",
        "    datas=[x_train,x_val,y_train,y_val]\n",
        "    #不均衡データに対応できるように、class_weight引数も設定\n",
        "    model = tree.DecisionTreeClassifier(random_state=i,max_depth=i,class_weight='balanced')\n",
        "    model.fit(x_train,y_train)\n",
        "    train_score=model.score(x_train,y_train)\n",
        "    \n",
        "    \n",
        "    val_score=model.score(x_val,y_val)\n",
        "    return train_score,val_score,model,datas\n",
        "\n",
        "t =train_val3['y']\n",
        "x = train_val3.drop(str_col_name,axis=1)\n",
        "x =x.drop(['id','y','day'],axis=1)\n",
        "#とりあえず、for文で様々な木の深さでの正解率を調べてみる\n",
        "for i in range(1,15):\n",
        "    s1,s2,model,datas = learn(x,t,i)\n",
        "    print(i,s1,s2)"
      ],
      "metadata": {
        "colab": {
          "base_uri": "https://localhost:8080/"
        },
        "id": "WP53lLF0sTqQ",
        "outputId": "b6f8e253-e62b-44d7-9acb-0453e2586f8e"
      },
      "execution_count": 16,
      "outputs": [
        {
          "output_type": "stream",
          "name": "stdout",
          "text": [
            "1 0.754351832889617 0.7565021503174278\n",
            "2 0.754351832889617 0.7565021503174278\n",
            "3 0.7117038705713701 0.708171206225681\n",
            "4 0.7706328077001843 0.7765717796436616\n",
            "5 0.7595740323571575 0.7513823469178783\n",
            "6 0.7923919721482695 0.7855826336268688\n",
            "7 0.8189637517919311 0.8046283022731927\n",
            "8 0.8383166086422281 0.8220356338316609\n",
            "9 0.8561847225066558 0.8193733360638952\n",
            "10 0.8741040344050789 0.821421257423715\n",
            "11 0.8882346917878353 0.8179397911120213\n",
            "12 0.9068195781281999 0.8185541675199672\n",
            "13 0.9212062256809338 0.810976858488634\n",
            "14 0.9369752201515462 0.8130247798484538\n"
          ]
        }
      ]
    },
    {
      "cell_type": "code",
      "source": [
        "#どのような間違い方をしているのか確認\n",
        "s1,s2,model,datas = learn(x,t,8)\n",
        "\n",
        "#訓練データでの予測結果と実際の値の2軸で個数集計flagがFalseならば、検証データで集計\n",
        "def syuukei(model,datas,flag=False):\n",
        "    if flag:\n",
        "        pre=model.predict(datas[0])\n",
        "        y_val=datas[2]\n",
        "    else:\n",
        "        pre=model.predict(datas[1])\n",
        "        y_val=datas[3]\n",
        "    data={\n",
        "        \"pred\":pre,\n",
        "        \"true\":y_val\n",
        "    }\n",
        "    tmp=pd.DataFrame(data)\n",
        "    return tmp,pd.pivot_table(tmp,index=\"true\",columns=\"pred\",values=\"true\",aggfunc=len)\n",
        "tmp,a=syuukei(model,datas,False)\n",
        "print(a)\n",
        "from sklearn.preprocessing import StandardScaler\n",
        "false=tmp.loc[(tmp['pred']==1)&(tmp['true']==0)].index\n",
        "true=tmp.loc[(tmp['pred']==0)&(tmp['true']==0)].index\n",
        "true_df=train_val3.loc[true]\n",
        "false_df=train_val3.loc[false]\n",
        "sc = StandardScaler()\n",
        "tmp2=train_val3.drop(str_col_name,axis=1)\n",
        "sc_data = sc.fit_transform(tmp2)\n",
        "sc_df = pd.DataFrame(sc_data,columns=tmp2.columns,index=tmp2.index)\n",
        "\n",
        "true_df=sc_df.loc[true]\n",
        "false_df=sc_df.loc[false]\n",
        "true_df\n",
        "temp2=pd.concat([false_df.mean()[\"age\":],true_df.mean()[\"age\":]],axis=1)\n",
        "temp2.plot(kind=\"bar\")"
      ],
      "metadata": {
        "id": "2x-Ocnn0ulc5",
        "colab": {
          "base_uri": "https://localhost:8080/",
          "height": 700
        },
        "outputId": "2d3bf993-6b83-4a92-d865-2f7db2bd1959"
      },
      "execution_count": 17,
      "outputs": [
        {
          "output_type": "stream",
          "name": "stdout",
          "text": [
            "pred     0     1\n",
            "true            \n",
            "0     2825   558\n",
            "1      311  1189\n"
          ]
        },
        {
          "output_type": "execute_result",
          "data": {
            "text/plain": [
              "<Axes: >"
            ]
          },
          "metadata": {},
          "execution_count": 17
        },
        {
          "output_type": "display_data",
          "data": {
            "text/plain": [
              "<Figure size 640x480 with 1 Axes>"
            ],
            "image/png": "[encoded data removed]"
          },
          "metadata": {}
        }
      ]
    },
    {
      "cell_type": "code",
      "source": [
        "#交互作用項を付けてみる\n",
        "train_val4=train_val3.copy()\n",
        "train_val4['du*hou']=train_val3['duration']*train_val3['housing_yes']\n",
        "train_val4['du*loan']=train_val3['duration']*train_val3['loan_yes']\n",
        "train_val4['du*age']=train_val3['duration']*train_val3['age']\n",
        "\n",
        "t =train_val4['y']\n",
        "\"\"\"\n",
        "monthcol=['month_aug',\n",
        "       'month_dec', 'month_feb', 'month_jan', 'month_jul', 'month_jun',\n",
        "       'month_mar', 'month_may', 'month_nov', 'month_oct', 'month_sep']\n",
        "#jobcol=['job_entrepreneur', 'job_housemaid', 'job_management', 'job_retired',\n",
        "       'job_self-employed', 'job_services', 'job_student', 'job_technician',\n",
        "       'job_unemployed', 'job_unknown']\n",
        "\"\"\"\n",
        "\n",
        "x = train_val4.drop(str_col_name,axis=1)\n",
        "\n",
        "#x = x.drop(jobcol,axis=1)\n",
        "\n",
        "#x = x.drop(monthcol,axis=1)\n",
        "x =x.drop(['id','y','day'],axis=1)\n",
        "x.columns"
      ],
      "metadata": {
        "colab": {
          "base_uri": "https://localhost:8080/"
        },
        "id": "Iw0uGZgk0Kvh",
        "outputId": "635afbe8-5c6c-4021-89ca-ac73a11fc9b6"
      },
      "execution_count": 18,
      "outputs": [
        {
          "output_type": "execute_result",
          "data": {
            "text/plain": [
              "Index(['age', 'amount', 'duration', 'campaign', 'previous', 'job_blue-collar',\n",
              "       'job_entrepreneur', 'job_housemaid', 'job_management', 'job_retired',\n",
              "       'job_self-employed', 'job_services', 'job_student', 'job_technician',\n",
              "       'job_unemployed', 'job_unknown', 'default_yes', 'marital_married',\n",
              "       'marital_single', 'education_secondary', 'education_tertiary',\n",
              "       'education_unknown', 'housing_yes', 'loan_yes',\n",
              "       'contact_sending _document', 'contact_telephone', 'month_aug',\n",
              "       'month_dec', 'month_feb', 'month_jan', 'month_jul', 'month_jun',\n",
              "       'month_mar', 'month_may', 'month_nov', 'month_oct', 'month_sep',\n",
              "       'du*hou', 'du*loan', 'du*age'],\n",
              "      dtype='object')"
            ]
          },
          "metadata": {},
          "execution_count": 18
        }
      ]
    },
    {
      "cell_type": "code",
      "source": [
        "#とりあえず、for文で様々な木の深さでの正解率を調べてみる\n",
        "for i in range(5,15):\n",
        "    s1,s2,model,datas = learn(x,t,i)\n",
        "    print(i,s1,s2)"
      ],
      "metadata": {
        "colab": {
          "base_uri": "https://localhost:8080/"
        },
        "id": "0Eyf8Nag1h1A",
        "outputId": "f3bf8ada-f03d-44aa-bf67-30e151e91849"
      },
      "execution_count": 19,
      "outputs": [
        {
          "output_type": "stream",
          "name": "stdout",
          "text": [
            "5 0.7591644480851936 0.7505631783739505\n",
            "6 0.7908560311284046 0.7823059594511571\n",
            "7 0.8201925046078231 0.8058570550890846\n",
            "8 0.8384190047102191 0.8191685439279132\n",
            "9 0.8520376817530206 0.8083145607208683\n",
            "10 0.8697010034814663 0.8103624820806881\n",
            "11 0.8894634446037272 0.8179397911120213\n",
            "12 0.9051300430063486 0.8087241449928323\n",
            "13 0.9208990374769609 0.8101576899447062\n",
            "14 0.9347737046897399 0.8117960270325619\n"
          ]
        }
      ]
    },
    {
      "cell_type": "code",
      "source": [
        "#深さ８で正解率81% 先ほどより低下した。よって交互作用項は取る。\n",
        "train_val4=train_val3.copy()\n",
        "t =train_val4['y']\n",
        "x = train_val4.drop(str_col_name,axis=1)\n",
        "x =x.drop(['id','y','day'],axis=1)\n",
        "i=8\n",
        "model = tree.DecisionTreeClassifier(random_state=i,max_depth=i,class_weight=\"balanced\")\n",
        "model.fit(x,t)"
      ],
      "metadata": {
        "colab": {
          "base_uri": "https://localhost:8080/",
          "height": 75
        },
        "id": "gytYfv1p2ARa",
        "outputId": "e8ede4ff-c4ff-4044-83b9-364e535dc6ed"
      },
      "execution_count": 20,
      "outputs": [
        {
          "output_type": "execute_result",
          "data": {
            "text/plain": [
              "DecisionTreeClassifier(class_weight='balanced', max_depth=8, random_state=8)"
            ],
            "text/html": [
              "<style>#sk-container-id-3 {color: black;background-color: white;}#sk-container-id-3 pre{padding: 0;}#sk-container-id-3 div.sk-toggleable {background-color: white;}#sk-container-id-3 label.sk-toggleable__label {cursor: pointer;display: block;width: 100%;margin-bottom: 0;padding: 0.3em;box-sizing: border-box;text-align: center;}#sk-container-id-3 label.sk-toggleable__label-arrow:before {content: \"▸\";float: left;margin-right: 0.25em;color: #696969;}#sk-container-id-3 label.sk-toggleable__label-arrow:hover:before {color: black;}#sk-container-id-3 div.sk-estimator:hover label.sk-toggleable__label-arrow:before {color: black;}#sk-container-id-3 div.sk-toggleable__content {max-height: 0;max-width: 0;overflow: hidden;text-align: left;background-color: #f0f8ff;}#sk-container-id-3 div.sk-toggleable__content pre {margin: 0.2em;color: black;border-radius: 0.25em;background-color: #f0f8ff;}#sk-container-id-3 input.sk-toggleable__control:checked~div.sk-toggleable__content {max-height: 200px;max-width: 100%;overflow: auto;}#sk-container-id-3 input.sk-toggleable__control:checked~label.sk-toggleable__label-arrow:before {content: \"▾\";}#sk-container-id-3 div.sk-estimator input.sk-toggleable__control:checked~label.sk-toggleable__label {background-color: #d4ebff;}#sk-container-id-3 div.sk-label input.sk-toggleable__control:checked~label.sk-toggleable__label {background-color: #d4ebff;}#sk-container-id-3 input.sk-hidden--visually {border: 0;clip: rect(1px 1px 1px 1px);clip: rect(1px, 1px, 1px, 1px);height: 1px;margin: -1px;overflow: hidden;padding: 0;position: absolute;width: 1px;}#sk-container-id-3 div.sk-estimator {font-family: monospace;background-color: #f0f8ff;border: 1px dotted black;border-radius: 0.25em;box-sizing: border-box;margin-bottom: 0.5em;}#sk-container-id-3 div.sk-estimator:hover {background-color: #d4ebff;}#sk-container-id-3 div.sk-parallel-item::after {content: \"\";width: 100%;border-bottom: 1px solid gray;flex-grow: 1;}#sk-container-id-3 div.sk-label:hover label.sk-toggleable__label {background-color: #d4ebff;}#sk-container-id-3 div.sk-serial::before {content: \"\";position: absolute;border-left: 1px solid gray;box-sizing: border-box;top: 0;bottom: 0;left: 50%;z-index: 0;}#sk-container-id-3 div.sk-serial {display: flex;flex-direction: column;align-items: center;background-color: white;padding-right: 0.2em;padding-left: 0.2em;position: relative;}#sk-container-id-3 div.sk-item {position: relative;z-index: 1;}#sk-container-id-3 div.sk-parallel {display: flex;align-items: stretch;justify-content: center;background-color: white;position: relative;}#sk-container-id-3 div.sk-item::before, #sk-container-id-3 div.sk-parallel-item::before {content: \"\";position: absolute;border-left: 1px solid gray;box-sizing: border-box;top: 0;bottom: 0;left: 50%;z-index: -1;}#sk-container-id-3 div.sk-parallel-item {display: flex;flex-direction: column;z-index: 1;position: relative;background-color: white;}#sk-container-id-3 div.sk-parallel-item:first-child::after {align-self: flex-end;width: 50%;}#sk-container-id-3 div.sk-parallel-item:last-child::after {align-self: flex-start;width: 50%;}#sk-container-id-3 div.sk-parallel-item:only-child::after {width: 0;}#sk-container-id-3 div.sk-dashed-wrapped {border: 1px dashed gray;margin: 0 0.4em 0.5em 0.4em;box-sizing: border-box;padding-bottom: 0.4em;background-color: white;}#sk-container-id-3 div.sk-label label {font-family: monospace;font-weight: bold;display: inline-block;line-height: 1.2em;}#sk-container-id-3 div.sk-label-container {text-align: center;}#sk-container-id-3 div.sk-container {/* jupyter's `normalize.less` sets `[hidden] { display: none; }` but bootstrap.min.css set `[hidden] { display: none !important; }` so we also need the `!important` here to be able to override the default hidden behavior on the sphinx rendered scikit-learn.org. See: https://github.com/scikit-learn/scikit-learn/issues/21755 */display: inline-block !important;position: relative;}#sk-container-id-3 div.sk-text-repr-fallback {display: none;}</style><div id=\"sk-container-id-3\" class=\"sk-top-container\"><div class=\"sk-text-repr-fallback\"><pre>DecisionTreeClassifier(class_weight=&#x27;balanced&#x27;, max_depth=8, random_state=8)</pre><b>In a Jupyter environment, please rerun this cell to show the HTML representation or trust the notebook. <br />On GitHub, the HTML representation is unable to render, please try loading this page with nbviewer.org.</b></div><div class=\"sk-container\" hidden><div class=\"sk-item\"><div class=\"sk-estimator sk-toggleable\"><input class=\"sk-toggleable__control sk-hidden--visually\" id=\"sk-estimator-id-3\" type=\"checkbox\" checked><label for=\"sk-estimator-id-3\" class=\"sk-toggleable__label sk-toggleable__label-arrow\">DecisionTreeClassifier</label><div class=\"sk-toggleable__content\"><pre>DecisionTreeClassifier(class_weight=&#x27;balanced&#x27;, max_depth=8, random_state=8)</pre></div></div></div></div></div>"
            ]
          },
          "metadata": {},
          "execution_count": 20
        }
      ]
    },
    {
      "cell_type": "code",
      "source": [
        "#テストデータでも調べる\n",
        "test2 = test.copy()    \n",
        "isnull=test2['duration'].isnull()\n",
        "print(isnull.shape)\n",
        "if isnull.sum()>0:\n",
        "    temp_x = test2.drop(str_col_name,axis=1)\n",
        "    temp_x = temp_x.drop(['y','duration','id'],axis=1)\n",
        "    #print(temp_x.shape[0])\n",
        "    temp_x = temp_x[isnull]\n",
        "    #ここではmodel_linerで調べる\n",
        "    pred_d = model_liner.predict(temp_x)\n",
        "    test2.loc[isnull,'duration']=pred_d\n",
        "    \n",
        "\n",
        "x_test = test2.drop(str_col_name,axis=1)\n",
        "x_test =x_test.drop(['id','y','day'],axis=1)\n",
        "y_test = test['y']\n",
        "x_test.columns\n",
        "model.score(x_test,y_test)"
      ],
      "metadata": {
        "colab": {
          "base_uri": "https://localhost:8080/"
        },
        "id": "kGJagfY72MVW",
        "outputId": "e0cb042a-97a2-49c6-ecc2-4666da5b3042"
      },
      "execution_count": 21,
      "outputs": [
        {
          "output_type": "stream",
          "name": "stdout",
          "text": [
            "(2713,)\n"
          ]
        },
        {
          "output_type": "execute_result",
          "data": {
            "text/plain": [
              "0.7648359749354957"
            ]
          },
          "metadata": {},
          "execution_count": 21
        }
      ]
    }
  ]
}