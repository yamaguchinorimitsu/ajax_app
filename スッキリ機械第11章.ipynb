{
  "nbformat": 4,
  "nbformat_minor": 0,
  "metadata": {
    "colab": {
      "provenance": [],
      "authorship_tag": "ABX9TyNEiNLuuiMojSLqTYgsa7Yo",
      "include_colab_link": true
    },
    "kernelspec": {
      "name": "python3",
      "display_name": "Python 3"
    },
    "language_info": {
      "name": "python"
    }
  },
  "cells": [
    {
      "cell_type": "markdown",
      "metadata": {
        "id": "view-in-github",
        "colab_type": "text"
      },
      "source": [
        "<a href=\"https://colab.research.google.com/github/yamaguchinorimitsu/ajax_app/blob/master/%E3%82%B9%E3%83%83%E3%82%AD%E3%83%AA%E6%A9%9F%E6%A2%B0%E7%AC%AC11%E7%AB%A0.ipynb\" target=\"_parent\"><img src=\"https://colab.research.google.com/assets/colab-badge.svg\" alt=\"Open In Colab\"/></a>"
      ]
    },
    {
      "cell_type": "code",
      "execution_count": 15,
      "metadata": {
        "id": "FhmoDf0v8seA"
      },
      "outputs": [],
      "source": [
        "# 絶対使うであろうモジュールのインポート\n",
        "import pandas as pd\n",
        "\n",
        "from sklearn.model_selection import train_test_split\n",
        "%matplotlib inline\n",
        "from sklearn.preprocessing import StandardScaler"
      ]
    },
    {
      "cell_type": "code",
      "source": [
        "df = pd.read_csv('/content/Boston.csv') # csvの読み込み\n",
        "df = df.fillna(df.mean()) # 欠損値補完\n",
        "df = df.drop([76], axis = 0) # 外れ値の行を削除\n",
        "\n",
        "t = df[['PRICE']] # 正解データ抜き出し\n",
        "x = df.loc[:,['RM', 'PTRATIO', 'LSTAT']] # 特徴量抜き出し\n",
        "\n",
        "# 標準化\n",
        "sc = StandardScaler()\n",
        "sc_x = sc.fit_transform(x)\n",
        "sc2 = StandardScaler()\n",
        "sc_t = sc2.fit_transform(t)"
      ],
      "metadata": {
        "colab": {
          "base_uri": "https://localhost:8080/"
        },
        "id": "Kk4tDPtUTstv",
        "outputId": "13b9792e-8bd5-42d5-ea15-50d6d404ad92"
      },
      "execution_count": 16,
      "outputs": [
        {
          "output_type": "stream",
          "name": "stderr",
          "text": [
            "<ipython-input-16-afd1ca25b7a8>:2: FutureWarning: The default value of numeric_only in DataFrame.mean is deprecated. In a future version, it will default to False. In addition, specifying 'numeric_only=None' is deprecated. Select only valid columns or specify the value of numeric_only to silence this warning.\n",
            "  df = df.fillna(df.mean()) # 欠損値補完\n"
          ]
        }
      ]
    },
    {
      "cell_type": "code",
      "source": [
        "from sklearn.preprocessing import PolynomialFeatures\n",
        "\n",
        "pf = PolynomialFeatures(degree = 2, include_bias = False)\n",
        "pf_x = pf.fit_transform(sc_x) # 2乗列と交互作用項の追加\n",
        "pf_x.shape # 行数と列数\n"
      ],
      "metadata": {
        "colab": {
          "base_uri": "https://localhost:8080/"
        },
        "id": "m0HndOaHUmCd",
        "outputId": "f724bd7b-1da1-4f79-cbf5-4006c038b906"
      },
      "execution_count": 24,
      "outputs": [
        {
          "output_type": "execute_result",
          "data": {
            "text/plain": [
              "(99, 9)"
            ]
          },
          "metadata": {},
          "execution_count": 24
        }
      ]
    },
    {
      "cell_type": "code",
      "source": [
        "pf.get_feature_names()"
      ],
      "metadata": {
        "id": "b4fIkI-SVdFk"
      },
      "execution_count": null,
      "outputs": []
    },
    {
      "cell_type": "code",
      "source": [
        "from sklearn.linear_model import LinearRegression\n",
        "\n",
        "x_train, x_test, y_train, y_test = train_test_split(pf_x, sc_t, test_size = 0.3, random_state = 0)\n",
        "model = LinearRegression()\n",
        "model.fit(x_train, y_train)\n",
        "\n",
        "print(model.score(x_train, y_train)) # 訓練データの決定係数\n",
        "model.score(x_test, y_test) # テストデータの決定係数"
      ],
      "metadata": {
        "colab": {
          "base_uri": "https://localhost:8080/"
        },
        "id": "hhYAfjRBZf0e",
        "outputId": "6f882e4b-169d-41b3-ae91-b37a1dd5604d"
      },
      "execution_count": 26,
      "outputs": [
        {
          "output_type": "stream",
          "name": "stdout",
          "text": [
            "0.8710525685992707\n"
          ]
        },
        {
          "output_type": "execute_result",
          "data": {
            "text/plain": [
              "0.7854929935582584"
            ]
          },
          "metadata": {},
          "execution_count": 26
        }
      ]
    },
    {
      "cell_type": "code",
      "source": [
        "from sklearn.linear_model import Ridge # モジュールインポート\n",
        "# モデルの作成\n",
        "ridgeModel = Ridge(alpha = 10)\n",
        "ridgeModel.fit(x_train, y_train) # 学習\n",
        "print(ridgeModel.score(x_train, y_train))\n",
        "print(ridgeModel.score(x_test, y_test))"
      ],
      "metadata": {
        "colab": {
          "base_uri": "https://localhost:8080/"
        },
        "id": "bzpUiQ2xa84o",
        "outputId": "d947d22a-370a-455d-ef03-ac4c9a1ab5f2"
      },
      "execution_count": 33,
      "outputs": [
        {
          "output_type": "stream",
          "name": "stdout",
          "text": [
            "0.8607320524729507\n",
            "0.8458730019328173\n"
          ]
        }
      ]
    },
    {
      "cell_type": "code",
      "source": [
        "maxScore = 0\n",
        "maxIndex = 0\n",
        "# range関数により整数列を1～2000生成\n",
        "for i in range(1, 2001):\n",
        "    num = i/100\n",
        "    ridgeModel = Ridge(random_state = 0, alpha = num)\n",
        "    ridgeModel.fit(x_train, y_train)\n",
        "    result = ridgeModel.score(x_test, y_test)\n",
        "    if result > maxScore:\n",
        "        maxScore = result\n",
        "        maxIndex = num\n",
        "\n",
        "print(maxIndex, maxScore)"
      ],
      "metadata": {
        "colab": {
          "base_uri": "https://localhost:8080/"
        },
        "id": "9nCwv3GNbeaN",
        "outputId": "31526bea-3e98-4578-f854-86d375205e3f"
      },
      "execution_count": 34,
      "outputs": [
        {
          "output_type": "stream",
          "name": "stdout",
          "text": [
            "17.62 0.852875480149763\n"
          ]
        }
      ]
    },
    {
      "cell_type": "code",
      "source": [
        "print(sum(abs(model.coef_)[0])) # 線形回帰の係数（絶対値）\n",
        "# の合計\n",
        "print(sum(abs(ridgeModel.coef_)[0])) # リッジ回帰の合計"
      ],
      "metadata": {
        "colab": {
          "base_uri": "https://localhost:8080/"
        },
        "id": "0NcrYxT3cEfr",
        "outputId": "724d7dc7-fdd7-4c6f-ac93-85f52ce3aac6"
      },
      "execution_count": 35,
      "outputs": [
        {
          "output_type": "stream",
          "name": "stdout",
          "text": [
            "1.5566745983288366\n",
            "1.2152800824026817\n"
          ]
        }
      ]
    },
    {
      "cell_type": "code",
      "source": [
        "from sklearn.linear_model import Lasso\n",
        "\n",
        "x_train, x_test, y_train, y_test = train_test_split(pf_x,\n",
        "    sc_t, test_size = 0.3, random_state = 0)\n",
        "\n",
        "# ラッソ回帰のモデル作成（alphaは正則化項につく定数）\n",
        "model = Lasso(alpha = 0.1)\n",
        "model.fit(x_train, y_train)\n",
        "\n",
        "print(model.score(x_train, y_train)) # 訓練データの決定係数\n",
        "print(model.score(x_test, y_test)) # テストデータの決定係数"
      ],
      "metadata": {
        "colab": {
          "base_uri": "https://localhost:8080/"
        },
        "id": "XFLwRT1geL-o",
        "outputId": "55acb0a5-5df0-4873-f403-05bd73f935a1"
      },
      "execution_count": 36,
      "outputs": [
        {
          "output_type": "stream",
          "name": "stdout",
          "text": [
            "0.8224680202036665\n",
            "0.858846785318774\n"
          ]
        }
      ]
    },
    {
      "cell_type": "code",
      "source": [
        "# モデルの係数と切片の確認\n",
        "coef = model.coef_  # 回帰係数\n",
        "intercept = model.intercept_  # 切片\n",
        "\n",
        "print(coef)\n",
        "print(intercept)"
      ],
      "metadata": {
        "colab": {
          "base_uri": "https://localhost:8080/"
        },
        "id": "YjG0R6hKe-k7",
        "outputId": "07fc003f-e3d3-467d-ef48-1e3eef32d9e4"
      },
      "execution_count": 41,
      "outputs": [
        {
          "output_type": "stream",
          "name": "stdout",
          "text": [
            "[ 0.40942617 -0.08310439 -0.28771435  0.15000106 -0.         -0.03744993\n",
            " -0.          0.          0.        ]\n",
            "[-0.15893724]\n"
          ]
        }
      ]
    },
    {
      "cell_type": "code",
      "source": [
        "weight = model.coef_ # 係数抜き出す\n",
        "# 見やすいようにシリーズ変換\n",
        "pd.Series(weight, index = pf.get_feature_names())"
      ],
      "metadata": {
        "id": "TdRfXmrkeg2D"
      },
      "execution_count": null,
      "outputs": []
    }
  ]
}