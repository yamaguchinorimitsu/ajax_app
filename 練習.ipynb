{
  "nbformat": 4,
  "nbformat_minor": 0,
  "metadata": {
    "colab": {
      "provenance": [],
      "authorship_tag": "ABX9TyOKPoyrKgVgjMvf6t8gwgxN",
      "include_colab_link": true
    },
    "kernelspec": {
      "name": "python3",
      "display_name": "Python 3"
    },
    "language_info": {
      "name": "python"
    }
  },
  "cells": [
    {
      "cell_type": "markdown",
      "metadata": {
        "id": "view-in-github",
        "colab_type": "text"
      },
      "source": [
        "<a href=\"https://colab.research.google.com/github/yamaguchinorimitsu/ajax_app/blob/master/%E7%B7%B4%E7%BF%92.ipynb\" target=\"_parent\"><img src=\"https://colab.research.google.com/assets/colab-badge.svg\" alt=\"Open In Colab\"/></a>"
      ]
    },
    {
      "cell_type": "code",
      "execution_count": 1,
      "metadata": {
        "colab": {
          "base_uri": "https://localhost:8080/"
        },
        "id": "69CSvpMfRO3l",
        "outputId": "714e65dc-ac57-45ca-e48c-f00434986316"
      },
      "outputs": [
        {
          "output_type": "stream",
          "name": "stdout",
          "text": [
            "欠損値の数:\n",
            " がく片長さ    2\n",
            "がく片幅     1\n",
            "花弁長さ     2\n",
            "花弁幅      2\n",
            "種類       0\n",
            "dtype: int64\n"
          ]
        }
      ],
      "source": [
        "import pandas as pd\n",
        "from sklearn.model_selection import train_test_split\n",
        "from sklearn.ensemble import RandomForestRegressor\n",
        "from sklearn.linear_model import LinearRegression\n",
        "from sklearn.ensemble import RandomForestClassifier\n",
        "from sklearn.linear_model import LogisticRegression\n",
        "from sklearn.metrics import mean_squared_error, accuracy_score\n",
        "\n",
        "# CSVファイルを読み込み\n",
        "df = pd.read_csv('/content/iris.csv')\n",
        "\n",
        "# 欠損値の確認\n",
        "missing_values = df.isnull().sum()\n",
        "print(\"欠損値の数:\\n\", missing_values)\n",
        "\n"
      ]
    },
    {
      "cell_type": "code",
      "source": [
        "# 欠損値を平均値で補完\n",
        "df = df.fillna(df.mean(numeric_only=True))\n",
        "\n"
      ],
      "metadata": {
        "id": "L3_kFyaATeDt"
      },
      "execution_count": 3,
      "outputs": []
    },
    {
      "cell_type": "code",
      "source": [
        "# 欠損値の確認\n",
        "missing_values = df.isnull().sum()\n",
        "print(\"欠損値の数:\\n\", missing_values)"
      ],
      "metadata": {
        "colab": {
          "base_uri": "https://localhost:8080/"
        },
        "id": "c_wNg7wmUEQv",
        "outputId": "7748d91c-8520-4a41-9959-5e1bbb4c633e"
      },
      "execution_count": 4,
      "outputs": [
        {
          "output_type": "stream",
          "name": "stdout",
          "text": [
            "欠損値の数:\n",
            " がく片長さ    0\n",
            "がく片幅     0\n",
            "花弁長さ     0\n",
            "花弁幅      0\n",
            "種類       0\n",
            "dtype: int64\n"
          ]
        }
      ]
    },
    {
      "cell_type": "code",
      "source": [
        "# 特徴量とターゲットの分割\n",
        "xcol = ['がく片長さ', 'がく片幅', '花弁長さ', '花弁幅']\n",
        "\n",
        "X = df[xcol]\n",
        "y = df['種類']\n"
      ],
      "metadata": {
        "id": "ysLUHAeaUMsU"
      },
      "execution_count": 9,
      "outputs": []
    },
    {
      "cell_type": "code",
      "source": [
        "# 訓練データとテストデータの分割\n",
        "X_train, X_test, y_train, y_test = train_test_split(X, y, test_size=0.2, random_state=42)\n",
        "\n",
        "# ランダムフォレスト分類モデルの作成と評価\n",
        "classifier_rf = RandomForestClassifier(max_depth=2, random_state=42)\n",
        "classifier_rf.fit(X_train, y_train)\n",
        "y_pred_rf_class = classifier_rf.predict(X_test)\n",
        "accuracy_rf = accuracy_score(y_test, y_pred_rf_class)\n",
        "print(\"ランダムフォレスト分類モデルの評価（正解率）:\", accuracy_rf)\n"
      ],
      "metadata": {
        "colab": {
          "base_uri": "https://localhost:8080/"
        },
        "id": "KdSeU4KLU_Or",
        "outputId": "8e274197-7209-4ab0-c74f-e8a421ff9e5f"
      },
      "execution_count": 13,
      "outputs": [
        {
          "output_type": "stream",
          "name": "stdout",
          "text": [
            "ランダムフォレスト分類モデルの評価（正解率）: 1.0\n"
          ]
        }
      ]
    },
    {
      "cell_type": "code",
      "source": [
        "classifier_rf.score(X_test,y_test)"
      ],
      "metadata": {
        "colab": {
          "base_uri": "https://localhost:8080/"
        },
        "id": "CBPyXgCuWLJg",
        "outputId": "d91eed26-2e77-4f5c-add3-ced1c78c5c3c"
      },
      "execution_count": 15,
      "outputs": [
        {
          "output_type": "execute_result",
          "data": {
            "text/plain": [
              "1.0"
            ]
          },
          "metadata": {},
          "execution_count": 15
        }
      ]
    },
    {
      "cell_type": "code",
      "source": [
        "# 特徴量の重要度を取得\n",
        "importances = classifier_rf.feature_importances_\n",
        "\n",
        "# 特徴量名と重要度を表示\n",
        "for feature, importance in zip(X.columns, importances):\n",
        "    print(feature, importance)"
      ],
      "metadata": {
        "colab": {
          "base_uri": "https://localhost:8080/"
        },
        "id": "gdg6YeztXPbg",
        "outputId": "211ac608-a151-431f-99ab-e59c77463cd2"
      },
      "execution_count": 16,
      "outputs": [
        {
          "output_type": "stream",
          "name": "stdout",
          "text": [
            "がく片長さ 0.2563202350455202\n",
            "がく片幅 0.03571672964326945\n",
            "花弁長さ 0.17278751328982\n",
            "花弁幅 0.5351755220213903\n"
          ]
        }
      ]
    }
  ]
}